{
  "nbformat": 4,
  "nbformat_minor": 0,
  "metadata": {
    "colab": {
      "name": "Stroke-Prediction.ipynb",
      "provenance": [],
      "authorship_tag": "ABX9TyNWBWTnVUo6AqyYAvmzQJmt",
      "include_colab_link": true
    },
    "kernelspec": {
      "name": "python3",
      "display_name": "Python 3"
    },
    "language_info": {
      "name": "python"
    }
  },
  "cells": [
    {
      "cell_type": "markdown",
      "metadata": {
        "id": "view-in-github",
        "colab_type": "text"
      },
      "source": [
        "<a href=\"https://colab.research.google.com/github/shashvat3107/Stroke-Prediction/blob/main/Stroke_Prediction.ipynb\" target=\"_parent\"><img src=\"https://colab.research.google.com/assets/colab-badge.svg\" alt=\"Open In Colab\"/></a>"
      ]
    },
    {
      "cell_type": "code",
      "execution_count": 1,
      "metadata": {
        "id": "H5Vr5iEKBz4I"
      },
      "outputs": [],
      "source": [
        "import pandas as pd\n",
        "import seaborn as sns\n",
        "import numpy as np\n",
        "import matplotlib.pyplot as plt"
      ]
    },
    {
      "cell_type": "code",
      "source": [
        "df = pd.read_csv(\"/content/healthcare-dataset-stroke-data.csv\")"
      ],
      "metadata": {
        "id": "QCQaMMvG7JUy"
      },
      "execution_count": 5,
      "outputs": []
    },
    {
      "cell_type": "code",
      "source": [
        "df.head()"
      ],
      "metadata": {
        "colab": {
          "base_uri": "https://localhost:8080/",
          "height": 250
        },
        "id": "0rOtrPpO7bwS",
        "outputId": "f7df3707-8368-4d05-c554-046492984410"
      },
      "execution_count": 7,
      "outputs": [
        {
          "output_type": "execute_result",
          "data": {
            "text/plain": [
              "      id  gender   age  hypertension  heart_disease ever_married  \\\n",
              "0   9046    Male  67.0             0              1          Yes   \n",
              "1  51676  Female  61.0             0              0          Yes   \n",
              "2  31112    Male  80.0             0              1          Yes   \n",
              "3  60182  Female  49.0             0              0          Yes   \n",
              "4   1665  Female  79.0             1              0          Yes   \n",
              "\n",
              "       work_type Residence_type  avg_glucose_level   bmi   smoking_status  \\\n",
              "0        Private          Urban             228.69  36.6  formerly smoked   \n",
              "1  Self-employed          Rural             202.21   NaN     never smoked   \n",
              "2        Private          Rural             105.92  32.5     never smoked   \n",
              "3        Private          Urban             171.23  34.4           smokes   \n",
              "4  Self-employed          Rural             174.12  24.0     never smoked   \n",
              "\n",
              "   stroke  \n",
              "0       1  \n",
              "1       1  \n",
              "2       1  \n",
              "3       1  \n",
              "4       1  "
            ],
            "text/html": [
              "\n",
              "  <div id=\"df-6e88b521-b40f-4564-83b9-c21c3052dc32\">\n",
              "    <div class=\"colab-df-container\">\n",
              "      <div>\n",
              "<style scoped>\n",
              "    .dataframe tbody tr th:only-of-type {\n",
              "        vertical-align: middle;\n",
              "    }\n",
              "\n",
              "    .dataframe tbody tr th {\n",
              "        vertical-align: top;\n",
              "    }\n",
              "\n",
              "    .dataframe thead th {\n",
              "        text-align: right;\n",
              "    }\n",
              "</style>\n",
              "<table border=\"1\" class=\"dataframe\">\n",
              "  <thead>\n",
              "    <tr style=\"text-align: right;\">\n",
              "      <th></th>\n",
              "      <th>id</th>\n",
              "      <th>gender</th>\n",
              "      <th>age</th>\n",
              "      <th>hypertension</th>\n",
              "      <th>heart_disease</th>\n",
              "      <th>ever_married</th>\n",
              "      <th>work_type</th>\n",
              "      <th>Residence_type</th>\n",
              "      <th>avg_glucose_level</th>\n",
              "      <th>bmi</th>\n",
              "      <th>smoking_status</th>\n",
              "      <th>stroke</th>\n",
              "    </tr>\n",
              "  </thead>\n",
              "  <tbody>\n",
              "    <tr>\n",
              "      <th>0</th>\n",
              "      <td>9046</td>\n",
              "      <td>Male</td>\n",
              "      <td>67.0</td>\n",
              "      <td>0</td>\n",
              "      <td>1</td>\n",
              "      <td>Yes</td>\n",
              "      <td>Private</td>\n",
              "      <td>Urban</td>\n",
              "      <td>228.69</td>\n",
              "      <td>36.6</td>\n",
              "      <td>formerly smoked</td>\n",
              "      <td>1</td>\n",
              "    </tr>\n",
              "    <tr>\n",
              "      <th>1</th>\n",
              "      <td>51676</td>\n",
              "      <td>Female</td>\n",
              "      <td>61.0</td>\n",
              "      <td>0</td>\n",
              "      <td>0</td>\n",
              "      <td>Yes</td>\n",
              "      <td>Self-employed</td>\n",
              "      <td>Rural</td>\n",
              "      <td>202.21</td>\n",
              "      <td>NaN</td>\n",
              "      <td>never smoked</td>\n",
              "      <td>1</td>\n",
              "    </tr>\n",
              "    <tr>\n",
              "      <th>2</th>\n",
              "      <td>31112</td>\n",
              "      <td>Male</td>\n",
              "      <td>80.0</td>\n",
              "      <td>0</td>\n",
              "      <td>1</td>\n",
              "      <td>Yes</td>\n",
              "      <td>Private</td>\n",
              "      <td>Rural</td>\n",
              "      <td>105.92</td>\n",
              "      <td>32.5</td>\n",
              "      <td>never smoked</td>\n",
              "      <td>1</td>\n",
              "    </tr>\n",
              "    <tr>\n",
              "      <th>3</th>\n",
              "      <td>60182</td>\n",
              "      <td>Female</td>\n",
              "      <td>49.0</td>\n",
              "      <td>0</td>\n",
              "      <td>0</td>\n",
              "      <td>Yes</td>\n",
              "      <td>Private</td>\n",
              "      <td>Urban</td>\n",
              "      <td>171.23</td>\n",
              "      <td>34.4</td>\n",
              "      <td>smokes</td>\n",
              "      <td>1</td>\n",
              "    </tr>\n",
              "    <tr>\n",
              "      <th>4</th>\n",
              "      <td>1665</td>\n",
              "      <td>Female</td>\n",
              "      <td>79.0</td>\n",
              "      <td>1</td>\n",
              "      <td>0</td>\n",
              "      <td>Yes</td>\n",
              "      <td>Self-employed</td>\n",
              "      <td>Rural</td>\n",
              "      <td>174.12</td>\n",
              "      <td>24.0</td>\n",
              "      <td>never smoked</td>\n",
              "      <td>1</td>\n",
              "    </tr>\n",
              "  </tbody>\n",
              "</table>\n",
              "</div>\n",
              "      <button class=\"colab-df-convert\" onclick=\"convertToInteractive('df-6e88b521-b40f-4564-83b9-c21c3052dc32')\"\n",
              "              title=\"Convert this dataframe to an interactive table.\"\n",
              "              style=\"display:none;\">\n",
              "        \n",
              "  <svg xmlns=\"http://www.w3.org/2000/svg\" height=\"24px\"viewBox=\"0 0 24 24\"\n",
              "       width=\"24px\">\n",
              "    <path d=\"M0 0h24v24H0V0z\" fill=\"none\"/>\n",
              "    <path d=\"M18.56 5.44l.94 2.06.94-2.06 2.06-.94-2.06-.94-.94-2.06-.94 2.06-2.06.94zm-11 1L8.5 8.5l.94-2.06 2.06-.94-2.06-.94L8.5 2.5l-.94 2.06-2.06.94zm10 10l.94 2.06.94-2.06 2.06-.94-2.06-.94-.94-2.06-.94 2.06-2.06.94z\"/><path d=\"M17.41 7.96l-1.37-1.37c-.4-.4-.92-.59-1.43-.59-.52 0-1.04.2-1.43.59L10.3 9.45l-7.72 7.72c-.78.78-.78 2.05 0 2.83L4 21.41c.39.39.9.59 1.41.59.51 0 1.02-.2 1.41-.59l7.78-7.78 2.81-2.81c.8-.78.8-2.07 0-2.86zM5.41 20L4 18.59l7.72-7.72 1.47 1.35L5.41 20z\"/>\n",
              "  </svg>\n",
              "      </button>\n",
              "      \n",
              "  <style>\n",
              "    .colab-df-container {\n",
              "      display:flex;\n",
              "      flex-wrap:wrap;\n",
              "      gap: 12px;\n",
              "    }\n",
              "\n",
              "    .colab-df-convert {\n",
              "      background-color: #E8F0FE;\n",
              "      border: none;\n",
              "      border-radius: 50%;\n",
              "      cursor: pointer;\n",
              "      display: none;\n",
              "      fill: #1967D2;\n",
              "      height: 32px;\n",
              "      padding: 0 0 0 0;\n",
              "      width: 32px;\n",
              "    }\n",
              "\n",
              "    .colab-df-convert:hover {\n",
              "      background-color: #E2EBFA;\n",
              "      box-shadow: 0px 1px 2px rgba(60, 64, 67, 0.3), 0px 1px 3px 1px rgba(60, 64, 67, 0.15);\n",
              "      fill: #174EA6;\n",
              "    }\n",
              "\n",
              "    [theme=dark] .colab-df-convert {\n",
              "      background-color: #3B4455;\n",
              "      fill: #D2E3FC;\n",
              "    }\n",
              "\n",
              "    [theme=dark] .colab-df-convert:hover {\n",
              "      background-color: #434B5C;\n",
              "      box-shadow: 0px 1px 3px 1px rgba(0, 0, 0, 0.15);\n",
              "      filter: drop-shadow(0px 1px 2px rgba(0, 0, 0, 0.3));\n",
              "      fill: #FFFFFF;\n",
              "    }\n",
              "  </style>\n",
              "\n",
              "      <script>\n",
              "        const buttonEl =\n",
              "          document.querySelector('#df-6e88b521-b40f-4564-83b9-c21c3052dc32 button.colab-df-convert');\n",
              "        buttonEl.style.display =\n",
              "          google.colab.kernel.accessAllowed ? 'block' : 'none';\n",
              "\n",
              "        async function convertToInteractive(key) {\n",
              "          const element = document.querySelector('#df-6e88b521-b40f-4564-83b9-c21c3052dc32');\n",
              "          const dataTable =\n",
              "            await google.colab.kernel.invokeFunction('convertToInteractive',\n",
              "                                                     [key], {});\n",
              "          if (!dataTable) return;\n",
              "\n",
              "          const docLinkHtml = 'Like what you see? Visit the ' +\n",
              "            '<a target=\"_blank\" href=https://colab.research.google.com/notebooks/data_table.ipynb>data table notebook</a>'\n",
              "            + ' to learn more about interactive tables.';\n",
              "          element.innerHTML = '';\n",
              "          dataTable['output_type'] = 'display_data';\n",
              "          await google.colab.output.renderOutput(dataTable, element);\n",
              "          const docLink = document.createElement('div');\n",
              "          docLink.innerHTML = docLinkHtml;\n",
              "          element.appendChild(docLink);\n",
              "        }\n",
              "      </script>\n",
              "    </div>\n",
              "  </div>\n",
              "  "
            ]
          },
          "metadata": {},
          "execution_count": 7
        }
      ]
    },
    {
      "cell_type": "code",
      "source": [
        "df.dtypes"
      ],
      "metadata": {
        "colab": {
          "base_uri": "https://localhost:8080/"
        },
        "id": "l_WGr5NN745R",
        "outputId": "59f8c4d5-29c6-4ff4-b95e-e4401821137b"
      },
      "execution_count": 8,
      "outputs": [
        {
          "output_type": "execute_result",
          "data": {
            "text/plain": [
              "id                     int64\n",
              "gender                object\n",
              "age                  float64\n",
              "hypertension           int64\n",
              "heart_disease          int64\n",
              "ever_married          object\n",
              "work_type             object\n",
              "Residence_type        object\n",
              "avg_glucose_level    float64\n",
              "bmi                  float64\n",
              "smoking_status        object\n",
              "stroke                 int64\n",
              "dtype: object"
            ]
          },
          "metadata": {},
          "execution_count": 8
        }
      ]
    },
    {
      "cell_type": "code",
      "source": [
        "df.isnull().sum()"
      ],
      "metadata": {
        "colab": {
          "base_uri": "https://localhost:8080/"
        },
        "id": "QydC1EI_78So",
        "outputId": "a6c4af15-f593-4ebf-8ba1-3b17610fcfcf"
      },
      "execution_count": 9,
      "outputs": [
        {
          "output_type": "execute_result",
          "data": {
            "text/plain": [
              "id                     0\n",
              "gender                 0\n",
              "age                    0\n",
              "hypertension           0\n",
              "heart_disease          0\n",
              "ever_married           0\n",
              "work_type              0\n",
              "Residence_type         0\n",
              "avg_glucose_level      0\n",
              "bmi                  201\n",
              "smoking_status         0\n",
              "stroke                 0\n",
              "dtype: int64"
            ]
          },
          "metadata": {},
          "execution_count": 9
        }
      ]
    },
    {
      "cell_type": "code",
      "source": [
        "df['bmi']"
      ],
      "metadata": {
        "colab": {
          "base_uri": "https://localhost:8080/"
        },
        "id": "ZhyPsMTk8AHy",
        "outputId": "9074280e-c860-4300-a938-0f5cd40b5fb0"
      },
      "execution_count": 10,
      "outputs": [
        {
          "output_type": "execute_result",
          "data": {
            "text/plain": [
              "0       36.6\n",
              "1        NaN\n",
              "2       32.5\n",
              "3       34.4\n",
              "4       24.0\n",
              "        ... \n",
              "5105     NaN\n",
              "5106    40.0\n",
              "5107    30.6\n",
              "5108    25.6\n",
              "5109    26.2\n",
              "Name: bmi, Length: 5110, dtype: float64"
            ]
          },
          "metadata": {},
          "execution_count": 10
        }
      ]
    },
    {
      "cell_type": "code",
      "source": [
        "df['bmi'] = df['bmi'].replace(np.nan , df['bmi'].dropna().mean())"
      ],
      "metadata": {
        "id": "4gtZYYrs8Fkh"
      },
      "execution_count": 11,
      "outputs": []
    },
    {
      "cell_type": "code",
      "source": [
        "df.isnull().sum()"
      ],
      "metadata": {
        "colab": {
          "base_uri": "https://localhost:8080/"
        },
        "id": "c4EfHXjB8JVF",
        "outputId": "f565f8f1-3b66-4a5c-e6b6-b4ff87bcfa23"
      },
      "execution_count": 12,
      "outputs": [
        {
          "output_type": "execute_result",
          "data": {
            "text/plain": [
              "id                   0\n",
              "gender               0\n",
              "age                  0\n",
              "hypertension         0\n",
              "heart_disease        0\n",
              "ever_married         0\n",
              "work_type            0\n",
              "Residence_type       0\n",
              "avg_glucose_level    0\n",
              "bmi                  0\n",
              "smoking_status       0\n",
              "stroke               0\n",
              "dtype: int64"
            ]
          },
          "metadata": {},
          "execution_count": 12
        }
      ]
    },
    {
      "cell_type": "code",
      "source": [
        "sns.heatmap(df.corr())"
      ],
      "metadata": {
        "colab": {
          "base_uri": "https://localhost:8080/",
          "height": 367
        },
        "id": "w-Qlwj6t8NJd",
        "outputId": "6ed00206-3751-43a3-ad15-3c1516973baa"
      },
      "execution_count": 13,
      "outputs": [
        {
          "output_type": "execute_result",
          "data": {
            "text/plain": [
              "<matplotlib.axes._subplots.AxesSubplot at 0x7f2ed5751610>"
            ]
          },
          "metadata": {},
          "execution_count": 13
        },
        {
          "output_type": "display_data",
          "data": {
            "text/plain": [
              "<Figure size 432x288 with 2 Axes>"
            ],
            "image/png": "[encoded data removed]"
          },
          "metadata": {
            "needs_background": "light"
          }
        }
      ]
    },
    {
      "cell_type": "code",
      "source": [
        "df1 =  pd.get_dummies(df,drop_first= True)"
      ],
      "metadata": {
        "id": "LgWw9iAl8PUn"
      },
      "execution_count": 14,
      "outputs": []
    },
    {
      "cell_type": "code",
      "source": [
        "df1"
      ],
      "metadata": {
        "colab": {
          "base_uri": "https://localhost:8080/",
          "height": 505
        },
        "id": "pSIB-Le98V3R",
        "outputId": "ae1278de-7eed-495f-d875-db67c8ab3a07"
      },
      "execution_count": 15,
      "outputs": [
        {
          "output_type": "execute_result",
          "data": {
            "text/plain": [
              "         id   age  hypertension  heart_disease  avg_glucose_level        bmi  \\\n",
              "0      9046  67.0             0              1             228.69  36.600000   \n",
              "1     51676  61.0             0              0             202.21  28.893237   \n",
              "2     31112  80.0             0              1             105.92  32.500000   \n",
              "3     60182  49.0             0              0             171.23  34.400000   \n",
              "4      1665  79.0             1              0             174.12  24.000000   \n",
              "...     ...   ...           ...            ...                ...        ...   \n",
              "5105  18234  80.0             1              0              83.75  28.893237   \n",
              "5106  44873  81.0             0              0             125.20  40.000000   \n",
              "5107  19723  35.0             0              0              82.99  30.600000   \n",
              "5108  37544  51.0             0              0             166.29  25.600000   \n",
              "5109  44679  44.0             0              0              85.28  26.200000   \n",
              "\n",
              "      stroke  gender_Male  gender_Other  ever_married_Yes  \\\n",
              "0          1            1             0                 1   \n",
              "1          1            0             0                 1   \n",
              "2          1            1             0                 1   \n",
              "3          1            0             0                 1   \n",
              "4          1            0             0                 1   \n",
              "...      ...          ...           ...               ...   \n",
              "5105       0            0             0                 1   \n",
              "5106       0            0             0                 1   \n",
              "5107       0            0             0                 1   \n",
              "5108       0            1             0                 1   \n",
              "5109       0            0             0                 1   \n",
              "\n",
              "      work_type_Never_worked  work_type_Private  work_type_Self-employed  \\\n",
              "0                          0                  1                        0   \n",
              "1                          0                  0                        1   \n",
              "2                          0                  1                        0   \n",
              "3                          0                  1                        0   \n",
              "4                          0                  0                        1   \n",
              "...                      ...                ...                      ...   \n",
              "5105                       0                  1                        0   \n",
              "5106                       0                  0                        1   \n",
              "5107                       0                  0                        1   \n",
              "5108                       0                  1                        0   \n",
              "5109                       0                  0                        0   \n",
              "\n",
              "      work_type_children  Residence_type_Urban  \\\n",
              "0                      0                     1   \n",
              "1                      0                     0   \n",
              "2                      0                     0   \n",
              "3                      0                     1   \n",
              "4                      0                     0   \n",
              "...                  ...                   ...   \n",
              "5105                   0                     1   \n",
              "5106                   0                     1   \n",
              "5107                   0                     0   \n",
              "5108                   0                     0   \n",
              "5109                   0                     1   \n",
              "\n",
              "      smoking_status_formerly smoked  smoking_status_never smoked  \\\n",
              "0                                  1                            0   \n",
              "1                                  0                            1   \n",
              "2                                  0                            1   \n",
              "3                                  0                            0   \n",
              "4                                  0                            1   \n",
              "...                              ...                          ...   \n",
              "5105                               0                            1   \n",
              "5106                               0                            1   \n",
              "5107                               0                            1   \n",
              "5108                               1                            0   \n",
              "5109                               0                            0   \n",
              "\n",
              "      smoking_status_smokes  \n",
              "0                         0  \n",
              "1                         0  \n",
              "2                         0  \n",
              "3                         1  \n",
              "4                         0  \n",
              "...                     ...  \n",
              "5105                      0  \n",
              "5106                      0  \n",
              "5107                      0  \n",
              "5108                      0  \n",
              "5109                      0  \n",
              "\n",
              "[5110 rows x 18 columns]"
            ],
            "text/html": [
              "\n",
              "  <div id=\"df-8c981cf7-a8d1-41fc-9ad3-94c811f3f8f0\">\n",
              "    <div class=\"colab-df-container\">\n",
              "      <div>\n",
              "<style scoped>\n",
              "    .dataframe tbody tr th:only-of-type {\n",
              "        vertical-align: middle;\n",
              "    }\n",
              "\n",
              "    .dataframe tbody tr th {\n",
              "        vertical-align: top;\n",
              "    }\n",
              "\n",
              "    .dataframe thead th {\n",
              "        text-align: right;\n",
              "    }\n",
              "</style>\n",
              "<table border=\"1\" class=\"dataframe\">\n",
              "  <thead>\n",
              "    <tr style=\"text-align: right;\">\n",
              "      <th></th>\n",
              "      <th>id</th>\n",
              "      <th>age</th>\n",
              "      <th>hypertension</th>\n",
              "      <th>heart_disease</th>\n",
              "      <th>avg_glucose_level</th>\n",
              "      <th>bmi</th>\n",
              "      <th>stroke</th>\n",
              "      <th>gender_Male</th>\n",
              "      <th>gender_Other</th>\n",
              "      <th>ever_married_Yes</th>\n",
              "      <th>work_type_Never_worked</th>\n",
              "      <th>work_type_Private</th>\n",
              "      <th>work_type_Self-employed</th>\n",
              "      <th>work_type_children</th>\n",
              "      <th>Residence_type_Urban</th>\n",
              "      <th>smoking_status_formerly smoked</th>\n",
              "      <th>smoking_status_never smoked</th>\n",
              "      <th>smoking_status_smokes</th>\n",
              "    </tr>\n",
              "  </thead>\n",
              "  <tbody>\n",
              "    <tr>\n",
              "      <th>0</th>\n",
              "      <td>9046</td>\n",
              "      <td>67.0</td>\n",
              "      <td>0</td>\n",
              "      <td>1</td>\n",
              "      <td>228.69</td>\n",
              "      <td>36.600000</td>\n",
              "      <td>1</td>\n",
              "      <td>1</td>\n",
              "      <td>0</td>\n",
              "      <td>1</td>\n",
              "      <td>0</td>\n",
              "      <td>1</td>\n",
              "      <td>0</td>\n",
              "      <td>0</td>\n",
              "      <td>1</td>\n",
              "      <td>1</td>\n",
              "      <td>0</td>\n",
              "      <td>0</td>\n",
              "    </tr>\n",
              "    <tr>\n",
              "      <th>1</th>\n",
              "      <td>51676</td>\n",
              "      <td>61.0</td>\n",
              "      <td>0</td>\n",
              "      <td>0</td>\n",
              "      <td>202.21</td>\n",
              "      <td>28.893237</td>\n",
              "      <td>1</td>\n",
              "      <td>0</td>\n",
              "      <td>0</td>\n",
              "      <td>1</td>\n",
              "      <td>0</td>\n",
              "      <td>0</td>\n",
              "      <td>1</td>\n",
              "      <td>0</td>\n",
              "      <td>0</td>\n",
              "      <td>0</td>\n",
              "      <td>1</td>\n",
              "      <td>0</td>\n",
              "    </tr>\n",
              "    <tr>\n",
              "      <th>2</th>\n",
              "      <td>31112</td>\n",
              "      <td>80.0</td>\n",
              "      <td>0</td>\n",
              "      <td>1</td>\n",
              "      <td>105.92</td>\n",
              "      <td>32.500000</td>\n",
              "      <td>1</td>\n",
              "      <td>1</td>\n",
              "      <td>0</td>\n",
              "      <td>1</td>\n",
              "      <td>0</td>\n",
              "      <td>1</td>\n",
              "      <td>0</td>\n",
              "      <td>0</td>\n",
              "      <td>0</td>\n",
              "      <td>0</td>\n",
              "      <td>1</td>\n",
              "      <td>0</td>\n",
              "    </tr>\n",
              "    <tr>\n",
              "      <th>3</th>\n",
              "      <td>60182</td>\n",
              "      <td>49.0</td>\n",
              "      <td>0</td>\n",
              "      <td>0</td>\n",
              "      <td>171.23</td>\n",
              "      <td>34.400000</td>\n",
              "      <td>1</td>\n",
              "      <td>0</td>\n",
              "      <td>0</td>\n",
              "      <td>1</td>\n",
              "      <td>0</td>\n",
              "      <td>1</td>\n",
              "      <td>0</td>\n",
              "      <td>0</td>\n",
              "      <td>1</td>\n",
              "      <td>0</td>\n",
              "      <td>0</td>\n",
              "      <td>1</td>\n",
              "    </tr>\n",
              "    <tr>\n",
              "      <th>4</th>\n",
              "      <td>1665</td>\n",
              "      <td>79.0</td>\n",
              "      <td>1</td>\n",
              "      <td>0</td>\n",
              "      <td>174.12</td>\n",
              "      <td>24.000000</td>\n",
              "      <td>1</td>\n",
              "      <td>0</td>\n",
              "      <td>0</td>\n",
              "      <td>1</td>\n",
              "      <td>0</td>\n",
              "      <td>0</td>\n",
              "      <td>1</td>\n",
              "      <td>0</td>\n",
              "      <td>0</td>\n",
              "      <td>0</td>\n",
              "      <td>1</td>\n",
              "      <td>0</td>\n",
              "    </tr>\n",
              "    <tr>\n",
              "      <th>...</th>\n",
              "      <td>...</td>\n",
              "      <td>...</td>\n",
              "      <td>...</td>\n",
              "      <td>...</td>\n",
              "      <td>...</td>\n",
              "      <td>...</td>\n",
              "      <td>...</td>\n",
              "      <td>...</td>\n",
              "      <td>...</td>\n",
              "      <td>...</td>\n",
              "      <td>...</td>\n",
              "      <td>...</td>\n",
              "      <td>...</td>\n",
              "      <td>...</td>\n",
              "      <td>...</td>\n",
              "      <td>...</td>\n",
              "      <td>...</td>\n",
              "      <td>...</td>\n",
              "    </tr>\n",
              "    <tr>\n",
              "      <th>5105</th>\n",
              "      <td>18234</td>\n",
              "      <td>80.0</td>\n",
              "      <td>1</td>\n",
              "      <td>0</td>\n",
              "      <td>83.75</td>\n",
              "      <td>28.893237</td>\n",
              "      <td>0</td>\n",
              "      <td>0</td>\n",
              "      <td>0</td>\n",
              "      <td>1</td>\n",
              "      <td>0</td>\n",
              "      <td>1</td>\n",
              "      <td>0</td>\n",
              "      <td>0</td>\n",
              "      <td>1</td>\n",
              "      <td>0</td>\n",
              "      <td>1</td>\n",
              "      <td>0</td>\n",
              "    </tr>\n",
              "    <tr>\n",
              "      <th>5106</th>\n",
              "      <td>44873</td>\n",
              "      <td>81.0</td>\n",
              "      <td>0</td>\n",
              "      <td>0</td>\n",
              "      <td>125.20</td>\n",
              "      <td>40.000000</td>\n",
              "      <td>0</td>\n",
              "      <td>0</td>\n",
              "      <td>0</td>\n",
              "      <td>1</td>\n",
              "      <td>0</td>\n",
              "      <td>0</td>\n",
              "      <td>1</td>\n",
              "      <td>0</td>\n",
              "      <td>1</td>\n",
              "      <td>0</td>\n",
              "      <td>1</td>\n",
              "      <td>0</td>\n",
              "    </tr>\n",
              "    <tr>\n",
              "      <th>5107</th>\n",
              "      <td>19723</td>\n",
              "      <td>35.0</td>\n",
              "      <td>0</td>\n",
              "      <td>0</td>\n",
              "      <td>82.99</td>\n",
              "      <td>30.600000</td>\n",
              "      <td>0</td>\n",
              "      <td>0</td>\n",
              "      <td>0</td>\n",
              "      <td>1</td>\n",
              "      <td>0</td>\n",
              "      <td>0</td>\n",
              "      <td>1</td>\n",
              "      <td>0</td>\n",
              "      <td>0</td>\n",
              "      <td>0</td>\n",
              "      <td>1</td>\n",
              "      <td>0</td>\n",
              "    </tr>\n",
              "    <tr>\n",
              "      <th>5108</th>\n",
              "      <td>37544</td>\n",
              "      <td>51.0</td>\n",
              "      <td>0</td>\n",
              "      <td>0</td>\n",
              "      <td>166.29</td>\n",
              "      <td>25.600000</td>\n",
              "      <td>0</td>\n",
              "      <td>1</td>\n",
              "      <td>0</td>\n",
              "      <td>1</td>\n",
              "      <td>0</td>\n",
              "      <td>1</td>\n",
              "      <td>0</td>\n",
              "      <td>0</td>\n",
              "      <td>0</td>\n",
              "      <td>1</td>\n",
              "      <td>0</td>\n",
              "      <td>0</td>\n",
              "    </tr>\n",
              "    <tr>\n",
              "      <th>5109</th>\n",
              "      <td>44679</td>\n",
              "      <td>44.0</td>\n",
              "      <td>0</td>\n",
              "      <td>0</td>\n",
              "      <td>85.28</td>\n",
              "      <td>26.200000</td>\n",
              "      <td>0</td>\n",
              "      <td>0</td>\n",
              "      <td>0</td>\n",
              "      <td>1</td>\n",
              "      <td>0</td>\n",
              "      <td>0</td>\n",
              "      <td>0</td>\n",
              "      <td>0</td>\n",
              "      <td>1</td>\n",
              "      <td>0</td>\n",
              "      <td>0</td>\n",
              "      <td>0</td>\n",
              "    </tr>\n",
              "  </tbody>\n",
              "</table>\n",
              "<p>5110 rows × 18 columns</p>\n",
              "</div>\n",
              "      <button class=\"colab-df-convert\" onclick=\"convertToInteractive('df-8c981cf7-a8d1-41fc-9ad3-94c811f3f8f0')\"\n",
              "              title=\"Convert this dataframe to an interactive table.\"\n",
              "              style=\"display:none;\">\n",
              "        \n",
              "  <svg xmlns=\"http://www.w3.org/2000/svg\" height=\"24px\"viewBox=\"0 0 24 24\"\n",
              "       width=\"24px\">\n",
              "    <path d=\"M0 0h24v24H0V0z\" fill=\"none\"/>\n",
              "    <path d=\"M18.56 5.44l.94 2.06.94-2.06 2.06-.94-2.06-.94-.94-2.06-.94 2.06-2.06.94zm-11 1L8.5 8.5l.94-2.06 2.06-.94-2.06-.94L8.5 2.5l-.94 2.06-2.06.94zm10 10l.94 2.06.94-2.06 2.06-.94-2.06-.94-.94-2.06-.94 2.06-2.06.94z\"/><path d=\"M17.41 7.96l-1.37-1.37c-.4-.4-.92-.59-1.43-.59-.52 0-1.04.2-1.43.59L10.3 9.45l-7.72 7.72c-.78.78-.78 2.05 0 2.83L4 21.41c.39.39.9.59 1.41.59.51 0 1.02-.2 1.41-.59l7.78-7.78 2.81-2.81c.8-.78.8-2.07 0-2.86zM5.41 20L4 18.59l7.72-7.72 1.47 1.35L5.41 20z\"/>\n",
              "  </svg>\n",
              "      </button>\n",
              "      \n",
              "  <style>\n",
              "    .colab-df-container {\n",
              "      display:flex;\n",
              "      flex-wrap:wrap;\n",
              "      gap: 12px;\n",
              "    }\n",
              "\n",
              "    .colab-df-convert {\n",
              "      background-color: #E8F0FE;\n",
              "      border: none;\n",
              "      border-radius: 50%;\n",
              "      cursor: pointer;\n",
              "      display: none;\n",
              "      fill: #1967D2;\n",
              "      height: 32px;\n",
              "      padding: 0 0 0 0;\n",
              "      width: 32px;\n",
              "    }\n",
              "\n",
              "    .colab-df-convert:hover {\n",
              "      background-color: #E2EBFA;\n",
              "      box-shadow: 0px 1px 2px rgba(60, 64, 67, 0.3), 0px 1px 3px 1px rgba(60, 64, 67, 0.15);\n",
              "      fill: #174EA6;\n",
              "    }\n",
              "\n",
              "    [theme=dark] .colab-df-convert {\n",
              "      background-color: #3B4455;\n",
              "      fill: #D2E3FC;\n",
              "    }\n",
              "\n",
              "    [theme=dark] .colab-df-convert:hover {\n",
              "      background-color: #434B5C;\n",
              "      box-shadow: 0px 1px 3px 1px rgba(0, 0, 0, 0.15);\n",
              "      filter: drop-shadow(0px 1px 2px rgba(0, 0, 0, 0.3));\n",
              "      fill: #FFFFFF;\n",
              "    }\n",
              "  </style>\n",
              "\n",
              "      <script>\n",
              "        const buttonEl =\n",
              "          document.querySelector('#df-8c981cf7-a8d1-41fc-9ad3-94c811f3f8f0 button.colab-df-convert');\n",
              "        buttonEl.style.display =\n",
              "          google.colab.kernel.accessAllowed ? 'block' : 'none';\n",
              "\n",
              "        async function convertToInteractive(key) {\n",
              "          const element = document.querySelector('#df-8c981cf7-a8d1-41fc-9ad3-94c811f3f8f0');\n",
              "          const dataTable =\n",
              "            await google.colab.kernel.invokeFunction('convertToInteractive',\n",
              "                                                     [key], {});\n",
              "          if (!dataTable) return;\n",
              "\n",
              "          const docLinkHtml = 'Like what you see? Visit the ' +\n",
              "            '<a target=\"_blank\" href=https://colab.research.google.com/notebooks/data_table.ipynb>data table notebook</a>'\n",
              "            + ' to learn more about interactive tables.';\n",
              "          element.innerHTML = '';\n",
              "          dataTable['output_type'] = 'display_data';\n",
              "          await google.colab.output.renderOutput(dataTable, element);\n",
              "          const docLink = document.createElement('div');\n",
              "          docLink.innerHTML = docLinkHtml;\n",
              "          element.appendChild(docLink);\n",
              "        }\n",
              "      </script>\n",
              "    </div>\n",
              "  </div>\n",
              "  "
            ]
          },
          "metadata": {},
          "execution_count": 15
        }
      ]
    },
    {
      "cell_type": "code",
      "source": [
        "plt.figure(figsize = (16,9))\n",
        "sns.heatmap(df1.corr(),annot = True)\n",
        "plt.show()"
      ],
      "metadata": {
        "colab": {
          "base_uri": "https://localhost:8080/",
          "height": 698
        },
        "id": "ZoNRPyei8a6U",
        "outputId": "2ff987ce-0500-46d7-d8f9-f3267523312f"
      },
      "execution_count": 16,
      "outputs": [
        {
          "output_type": "display_data",
          "data": {
            "text/plain": [
              "<Figure size 1152x648 with 2 Axes>"
            ],
            "image/png": "[encoded data removed]"
          },
          "metadata": {
            "needs_background": "light"
          }
        }
      ]
    },
    {
      "cell_type": "code",
      "source": [
        "a,b=0,0\n",
        "for i in range(1,len(df['stroke'])):\n",
        "    if df['stroke'][i] == 1:\n",
        "        a = a+1\n",
        "    else:\n",
        "        b = b+1\n",
        "print(a,b)"
      ],
      "metadata": {
        "colab": {
          "base_uri": "https://localhost:8080/"
        },
        "id": "0HrzU-7e8dbJ",
        "outputId": "2cc31fc6-f048-4d04-e0d9-450a0e1d2caa"
      },
      "execution_count": 17,
      "outputs": [
        {
          "output_type": "stream",
          "name": "stdout",
          "text": [
            "248 4861\n"
          ]
        }
      ]
    },
    {
      "cell_type": "code",
      "source": [
        "df1.drop('id',axis = 1,inplace = True)\n",
        "df1"
      ],
      "metadata": {
        "colab": {
          "base_uri": "https://localhost:8080/",
          "height": 505
        },
        "id": "18T4hSAA8h7b",
        "outputId": "efee991a-539f-4c04-f3bd-ea6eb7daf85c"
      },
      "execution_count": 18,
      "outputs": [
        {
          "output_type": "execute_result",
          "data": {
            "text/plain": [
              "       age  hypertension  heart_disease  avg_glucose_level        bmi  stroke  \\\n",
              "0     67.0             0              1             228.69  36.600000       1   \n",
              "1     61.0             0              0             202.21  28.893237       1   \n",
              "2     80.0             0              1             105.92  32.500000       1   \n",
              "3     49.0             0              0             171.23  34.400000       1   \n",
              "4     79.0             1              0             174.12  24.000000       1   \n",
              "...    ...           ...            ...                ...        ...     ...   \n",
              "5105  80.0             1              0              83.75  28.893237       0   \n",
              "5106  81.0             0              0             125.20  40.000000       0   \n",
              "5107  35.0             0              0              82.99  30.600000       0   \n",
              "5108  51.0             0              0             166.29  25.600000       0   \n",
              "5109  44.0             0              0              85.28  26.200000       0   \n",
              "\n",
              "      gender_Male  gender_Other  ever_married_Yes  work_type_Never_worked  \\\n",
              "0               1             0                 1                       0   \n",
              "1               0             0                 1                       0   \n",
              "2               1             0                 1                       0   \n",
              "3               0             0                 1                       0   \n",
              "4               0             0                 1                       0   \n",
              "...           ...           ...               ...                     ...   \n",
              "5105            0             0                 1                       0   \n",
              "5106            0             0                 1                       0   \n",
              "5107            0             0                 1                       0   \n",
              "5108            1             0                 1                       0   \n",
              "5109            0             0                 1                       0   \n",
              "\n",
              "      work_type_Private  work_type_Self-employed  work_type_children  \\\n",
              "0                     1                        0                   0   \n",
              "1                     0                        1                   0   \n",
              "2                     1                        0                   0   \n",
              "3                     1                        0                   0   \n",
              "4                     0                        1                   0   \n",
              "...                 ...                      ...                 ...   \n",
              "5105                  1                        0                   0   \n",
              "5106                  0                        1                   0   \n",
              "5107                  0                        1                   0   \n",
              "5108                  1                        0                   0   \n",
              "5109                  0                        0                   0   \n",
              "\n",
              "      Residence_type_Urban  smoking_status_formerly smoked  \\\n",
              "0                        1                               1   \n",
              "1                        0                               0   \n",
              "2                        0                               0   \n",
              "3                        1                               0   \n",
              "4                        0                               0   \n",
              "...                    ...                             ...   \n",
              "5105                     1                               0   \n",
              "5106                     1                               0   \n",
              "5107                     0                               0   \n",
              "5108                     0                               1   \n",
              "5109                     1                               0   \n",
              "\n",
              "      smoking_status_never smoked  smoking_status_smokes  \n",
              "0                               0                      0  \n",
              "1                               1                      0  \n",
              "2                               1                      0  \n",
              "3                               0                      1  \n",
              "4                               1                      0  \n",
              "...                           ...                    ...  \n",
              "5105                            1                      0  \n",
              "5106                            1                      0  \n",
              "5107                            1                      0  \n",
              "5108                            0                      0  \n",
              "5109                            0                      0  \n",
              "\n",
              "[5110 rows x 17 columns]"
            ],
            "text/html": [
              "\n",
              "  <div id=\"df-217ace7e-fe6d-4d78-ad6d-eb5906e4e733\">\n",
              "    <div class=\"colab-df-container\">\n",
              "      <div>\n",
              "<style scoped>\n",
              "    .dataframe tbody tr th:only-of-type {\n",
              "        vertical-align: middle;\n",
              "    }\n",
              "\n",
              "    .dataframe tbody tr th {\n",
              "        vertical-align: top;\n",
              "    }\n",
              "\n",
              "    .dataframe thead th {\n",
              "        text-align: right;\n",
              "    }\n",
              "</style>\n",
              "<table border=\"1\" class=\"dataframe\">\n",
              "  <thead>\n",
              "    <tr style=\"text-align: right;\">\n",
              "      <th></th>\n",
              "      <th>age</th>\n",
              "      <th>hypertension</th>\n",
              "      <th>heart_disease</th>\n",
              "      <th>avg_glucose_level</th>\n",
              "      <th>bmi</th>\n",
              "      <th>stroke</th>\n",
              "      <th>gender_Male</th>\n",
              "      <th>gender_Other</th>\n",
              "      <th>ever_married_Yes</th>\n",
              "      <th>work_type_Never_worked</th>\n",
              "      <th>work_type_Private</th>\n",
              "      <th>work_type_Self-employed</th>\n",
              "      <th>work_type_children</th>\n",
              "      <th>Residence_type_Urban</th>\n",
              "      <th>smoking_status_formerly smoked</th>\n",
              "      <th>smoking_status_never smoked</th>\n",
              "      <th>smoking_status_smokes</th>\n",
              "    </tr>\n",
              "  </thead>\n",
              "  <tbody>\n",
              "    <tr>\n",
              "      <th>0</th>\n",
              "      <td>67.0</td>\n",
              "      <td>0</td>\n",
              "      <td>1</td>\n",
              "      <td>228.69</td>\n",
              "      <td>36.600000</td>\n",
              "      <td>1</td>\n",
              "      <td>1</td>\n",
              "      <td>0</td>\n",
              "      <td>1</td>\n",
              "      <td>0</td>\n",
              "      <td>1</td>\n",
              "      <td>0</td>\n",
              "      <td>0</td>\n",
              "      <td>1</td>\n",
              "      <td>1</td>\n",
              "      <td>0</td>\n",
              "      <td>0</td>\n",
              "    </tr>\n",
              "    <tr>\n",
              "      <th>1</th>\n",
              "      <td>61.0</td>\n",
              "      <td>0</td>\n",
              "      <td>0</td>\n",
              "      <td>202.21</td>\n",
              "      <td>28.893237</td>\n",
              "      <td>1</td>\n",
              "      <td>0</td>\n",
              "      <td>0</td>\n",
              "      <td>1</td>\n",
              "      <td>0</td>\n",
              "      <td>0</td>\n",
              "      <td>1</td>\n",
              "      <td>0</td>\n",
              "      <td>0</td>\n",
              "      <td>0</td>\n",
              "      <td>1</td>\n",
              "      <td>0</td>\n",
              "    </tr>\n",
              "    <tr>\n",
              "      <th>2</th>\n",
              "      <td>80.0</td>\n",
              "      <td>0</td>\n",
              "      <td>1</td>\n",
              "      <td>105.92</td>\n",
              "      <td>32.500000</td>\n",
              "      <td>1</td>\n",
              "      <td>1</td>\n",
              "      <td>0</td>\n",
              "      <td>1</td>\n",
              "      <td>0</td>\n",
              "      <td>1</td>\n",
              "      <td>0</td>\n",
              "      <td>0</td>\n",
              "      <td>0</td>\n",
              "      <td>0</td>\n",
              "      <td>1</td>\n",
              "      <td>0</td>\n",
              "    </tr>\n",
              "    <tr>\n",
              "      <th>3</th>\n",
              "      <td>49.0</td>\n",
              "      <td>0</td>\n",
              "      <td>0</td>\n",
              "      <td>171.23</td>\n",
              "      <td>34.400000</td>\n",
              "      <td>1</td>\n",
              "      <td>0</td>\n",
              "      <td>0</td>\n",
              "      <td>1</td>\n",
              "      <td>0</td>\n",
              "      <td>1</td>\n",
              "      <td>0</td>\n",
              "      <td>0</td>\n",
              "      <td>1</td>\n",
              "      <td>0</td>\n",
              "      <td>0</td>\n",
              "      <td>1</td>\n",
              "    </tr>\n",
              "    <tr>\n",
              "      <th>4</th>\n",
              "      <td>79.0</td>\n",
              "      <td>1</td>\n",
              "      <td>0</td>\n",
              "      <td>174.12</td>\n",
              "      <td>24.000000</td>\n",
              "      <td>1</td>\n",
              "      <td>0</td>\n",
              "      <td>0</td>\n",
              "      <td>1</td>\n",
              "      <td>0</td>\n",
              "      <td>0</td>\n",
              "      <td>1</td>\n",
              "      <td>0</td>\n",
              "      <td>0</td>\n",
              "      <td>0</td>\n",
              "      <td>1</td>\n",
              "      <td>0</td>\n",
              "    </tr>\n",
              "    <tr>\n",
              "      <th>...</th>\n",
              "      <td>...</td>\n",
              "      <td>...</td>\n",
              "      <td>...</td>\n",
              "      <td>...</td>\n",
              "      <td>...</td>\n",
              "      <td>...</td>\n",
              "      <td>...</td>\n",
              "      <td>...</td>\n",
              "      <td>...</td>\n",
              "      <td>...</td>\n",
              "      <td>...</td>\n",
              "      <td>...</td>\n",
              "      <td>...</td>\n",
              "      <td>...</td>\n",
              "      <td>...</td>\n",
              "      <td>...</td>\n",
              "      <td>...</td>\n",
              "    </tr>\n",
              "    <tr>\n",
              "      <th>5105</th>\n",
              "      <td>80.0</td>\n",
              "      <td>1</td>\n",
              "      <td>0</td>\n",
              "      <td>83.75</td>\n",
              "      <td>28.893237</td>\n",
              "      <td>0</td>\n",
              "      <td>0</td>\n",
              "      <td>0</td>\n",
              "      <td>1</td>\n",
              "      <td>0</td>\n",
              "      <td>1</td>\n",
              "      <td>0</td>\n",
              "      <td>0</td>\n",
              "      <td>1</td>\n",
              "      <td>0</td>\n",
              "      <td>1</td>\n",
              "      <td>0</td>\n",
              "    </tr>\n",
              "    <tr>\n",
              "      <th>5106</th>\n",
              "      <td>81.0</td>\n",
              "      <td>0</td>\n",
              "      <td>0</td>\n",
              "      <td>125.20</td>\n",
              "      <td>40.000000</td>\n",
              "      <td>0</td>\n",
              "      <td>0</td>\n",
              "      <td>0</td>\n",
              "      <td>1</td>\n",
              "      <td>0</td>\n",
              "      <td>0</td>\n",
              "      <td>1</td>\n",
              "      <td>0</td>\n",
              "      <td>1</td>\n",
              "      <td>0</td>\n",
              "      <td>1</td>\n",
              "      <td>0</td>\n",
              "    </tr>\n",
              "    <tr>\n",
              "      <th>5107</th>\n",
              "      <td>35.0</td>\n",
              "      <td>0</td>\n",
              "      <td>0</td>\n",
              "      <td>82.99</td>\n",
              "      <td>30.600000</td>\n",
              "      <td>0</td>\n",
              "      <td>0</td>\n",
              "      <td>0</td>\n",
              "      <td>1</td>\n",
              "      <td>0</td>\n",
              "      <td>0</td>\n",
              "      <td>1</td>\n",
              "      <td>0</td>\n",
              "      <td>0</td>\n",
              "      <td>0</td>\n",
              "      <td>1</td>\n",
              "      <td>0</td>\n",
              "    </tr>\n",
              "    <tr>\n",
              "      <th>5108</th>\n",
              "      <td>51.0</td>\n",
              "      <td>0</td>\n",
              "      <td>0</td>\n",
              "      <td>166.29</td>\n",
              "      <td>25.600000</td>\n",
              "      <td>0</td>\n",
              "      <td>1</td>\n",
              "      <td>0</td>\n",
              "      <td>1</td>\n",
              "      <td>0</td>\n",
              "      <td>1</td>\n",
              "      <td>0</td>\n",
              "      <td>0</td>\n",
              "      <td>0</td>\n",
              "      <td>1</td>\n",
              "      <td>0</td>\n",
              "      <td>0</td>\n",
              "    </tr>\n",
              "    <tr>\n",
              "      <th>5109</th>\n",
              "      <td>44.0</td>\n",
              "      <td>0</td>\n",
              "      <td>0</td>\n",
              "      <td>85.28</td>\n",
              "      <td>26.200000</td>\n",
              "      <td>0</td>\n",
              "      <td>0</td>\n",
              "      <td>0</td>\n",
              "      <td>1</td>\n",
              "      <td>0</td>\n",
              "      <td>0</td>\n",
              "      <td>0</td>\n",
              "      <td>0</td>\n",
              "      <td>1</td>\n",
              "      <td>0</td>\n",
              "      <td>0</td>\n",
              "      <td>0</td>\n",
              "    </tr>\n",
              "  </tbody>\n",
              "</table>\n",
              "<p>5110 rows × 17 columns</p>\n",
              "</div>\n",
              "      <button class=\"colab-df-convert\" onclick=\"convertToInteractive('df-217ace7e-fe6d-4d78-ad6d-eb5906e4e733')\"\n",
              "              title=\"Convert this dataframe to an interactive table.\"\n",
              "              style=\"display:none;\">\n",
              "        \n",
              "  <svg xmlns=\"http://www.w3.org/2000/svg\" height=\"24px\"viewBox=\"0 0 24 24\"\n",
              "       width=\"24px\">\n",
              "    <path d=\"M0 0h24v24H0V0z\" fill=\"none\"/>\n",
              "    <path d=\"M18.56 5.44l.94 2.06.94-2.06 2.06-.94-2.06-.94-.94-2.06-.94 2.06-2.06.94zm-11 1L8.5 8.5l.94-2.06 2.06-.94-2.06-.94L8.5 2.5l-.94 2.06-2.06.94zm10 10l.94 2.06.94-2.06 2.06-.94-2.06-.94-.94-2.06-.94 2.06-2.06.94z\"/><path d=\"M17.41 7.96l-1.37-1.37c-.4-.4-.92-.59-1.43-.59-.52 0-1.04.2-1.43.59L10.3 9.45l-7.72 7.72c-.78.78-.78 2.05 0 2.83L4 21.41c.39.39.9.59 1.41.59.51 0 1.02-.2 1.41-.59l7.78-7.78 2.81-2.81c.8-.78.8-2.07 0-2.86zM5.41 20L4 18.59l7.72-7.72 1.47 1.35L5.41 20z\"/>\n",
              "  </svg>\n",
              "      </button>\n",
              "      \n",
              "  <style>\n",
              "    .colab-df-container {\n",
              "      display:flex;\n",
              "      flex-wrap:wrap;\n",
              "      gap: 12px;\n",
              "    }\n",
              "\n",
              "    .colab-df-convert {\n",
              "      background-color: #E8F0FE;\n",
              "      border: none;\n",
              "      border-radius: 50%;\n",
              "      cursor: pointer;\n",
              "      display: none;\n",
              "      fill: #1967D2;\n",
              "      height: 32px;\n",
              "      padding: 0 0 0 0;\n",
              "      width: 32px;\n",
              "    }\n",
              "\n",
              "    .colab-df-convert:hover {\n",
              "      background-color: #E2EBFA;\n",
              "      box-shadow: 0px 1px 2px rgba(60, 64, 67, 0.3), 0px 1px 3px 1px rgba(60, 64, 67, 0.15);\n",
              "      fill: #174EA6;\n",
              "    }\n",
              "\n",
              "    [theme=dark] .colab-df-convert {\n",
              "      background-color: #3B4455;\n",
              "      fill: #D2E3FC;\n",
              "    }\n",
              "\n",
              "    [theme=dark] .colab-df-convert:hover {\n",
              "      background-color: #434B5C;\n",
              "      box-shadow: 0px 1px 3px 1px rgba(0, 0, 0, 0.15);\n",
              "      filter: drop-shadow(0px 1px 2px rgba(0, 0, 0, 0.3));\n",
              "      fill: #FFFFFF;\n",
              "    }\n",
              "  </style>\n",
              "\n",
              "      <script>\n",
              "        const buttonEl =\n",
              "          document.querySelector('#df-217ace7e-fe6d-4d78-ad6d-eb5906e4e733 button.colab-df-convert');\n",
              "        buttonEl.style.display =\n",
              "          google.colab.kernel.accessAllowed ? 'block' : 'none';\n",
              "\n",
              "        async function convertToInteractive(key) {\n",
              "          const element = document.querySelector('#df-217ace7e-fe6d-4d78-ad6d-eb5906e4e733');\n",
              "          const dataTable =\n",
              "            await google.colab.kernel.invokeFunction('convertToInteractive',\n",
              "                                                     [key], {});\n",
              "          if (!dataTable) return;\n",
              "\n",
              "          const docLinkHtml = 'Like what you see? Visit the ' +\n",
              "            '<a target=\"_blank\" href=https://colab.research.google.com/notebooks/data_table.ipynb>data table notebook</a>'\n",
              "            + ' to learn more about interactive tables.';\n",
              "          element.innerHTML = '';\n",
              "          dataTable['output_type'] = 'display_data';\n",
              "          await google.colab.output.renderOutput(dataTable, element);\n",
              "          const docLink = document.createElement('div');\n",
              "          docLink.innerHTML = docLinkHtml;\n",
              "          element.appendChild(docLink);\n",
              "        }\n",
              "      </script>\n",
              "    </div>\n",
              "  </div>\n",
              "  "
            ]
          },
          "metadata": {},
          "execution_count": 18
        }
      ]
    },
    {
      "cell_type": "code",
      "source": [
        "df1.shape"
      ],
      "metadata": {
        "colab": {
          "base_uri": "https://localhost:8080/"
        },
        "id": "5GF9ILiu8pJ_",
        "outputId": "fc3b5baf-f64c-490d-efc4-4dbcd6f39a08"
      },
      "execution_count": 19,
      "outputs": [
        {
          "output_type": "execute_result",
          "data": {
            "text/plain": [
              "(5110, 17)"
            ]
          },
          "metadata": {},
          "execution_count": 19
        }
      ]
    },
    {
      "cell_type": "markdown",
      "source": [
        "# **Checking feature importances**"
      ],
      "metadata": {
        "id": "EuP1ty8Q8t-g"
      }
    },
    {
      "cell_type": "code",
      "source": [
        "x= df1.drop(\"stroke\" ,axis=1)\n",
        "y = df1[\"stroke\"]"
      ],
      "metadata": {
        "id": "LseTx-yj8xnI"
      },
      "execution_count": 20,
      "outputs": []
    },
    {
      "cell_type": "code",
      "source": [
        "from sklearn.ensemble import ExtraTreesClassifier\n",
        "import matplotlib.pyplot as plt\n",
        "model=ExtraTreesClassifier()\n",
        "model.fit(x,y)"
      ],
      "metadata": {
        "colab": {
          "base_uri": "https://localhost:8080/"
        },
        "id": "y-4dyczW88e_",
        "outputId": "a05b4045-aff6-4185-a6f0-488d923cbb08"
      },
      "execution_count": 21,
      "outputs": [
        {
          "output_type": "execute_result",
          "data": {
            "text/plain": [
              "ExtraTreesClassifier()"
            ]
          },
          "metadata": {},
          "execution_count": 21
        }
      ]
    },
    {
      "cell_type": "code",
      "source": [
        "print(model.feature_importances_)"
      ],
      "metadata": {
        "colab": {
          "base_uri": "https://localhost:8080/"
        },
        "id": "lMCOIn_f9ANn",
        "outputId": "20f36d06-cc24-4458-9bbd-8118b9ae243c"
      },
      "execution_count": 22,
      "outputs": [
        {
          "output_type": "stream",
          "name": "stdout",
          "text": [
            "[2.63130869e-01 2.40693907e-02 2.19661412e-02 2.57605151e-01\n",
            " 2.27315938e-01 3.75288320e-02 2.71296852e-07 1.96629202e-02\n",
            " 4.17054229e-05 2.40939574e-02 1.75423645e-02 1.40539143e-03\n",
            " 4.30905740e-02 2.00019993e-02 2.26925368e-02 1.98519579e-02]\n"
          ]
        }
      ]
    },
    {
      "cell_type": "code",
      "source": [
        "import matplotlib.pyplot as plt\n",
        "plt.figure(figsize= (30,30))\n",
        "plt.bar(x.columns,model.feature_importances_)"
      ],
      "metadata": {
        "colab": {
          "base_uri": "https://localhost:8080/",
          "height": 1000
        },
        "id": "5My6EGjY9D2F",
        "outputId": "21508687-7134-463a-de57-aef9f6f619dd"
      },
      "execution_count": 25,
      "outputs": [
        {
          "output_type": "execute_result",
          "data": {
            "text/plain": [
              "<BarContainer object of 16 artists>"
            ]
          },
          "metadata": {},
          "execution_count": 25
        },
        {
          "output_type": "display_data",
          "data": {
            "text/plain": [
              "<Figure size 2160x2160 with 1 Axes>"
            ],
            "image/png": "[encoded data removed]"
          },
          "metadata": {
            "needs_background": "light"
          }
        }
      ]
    },
    {
      "cell_type": "code",
      "source": [
        "ranked_features=pd.Series(model.feature_importances_,index=x.columns)\n",
        "plt.figure(figsize= (20,10))\n",
        "ranked_features.nlargest(7).plot(kind='barh')\n",
        "plt.show()"
      ],
      "metadata": {
        "colab": {
          "base_uri": "https://localhost:8080/",
          "height": 529
        },
        "id": "c8PLeD279HQl",
        "outputId": "e2f9a823-0453-4ad4-f3ed-ab458e307d80"
      },
      "execution_count": 26,
      "outputs": [
        {
          "output_type": "display_data",
          "data": {
            "text/plain": [
              "<Figure size 1440x720 with 1 Axes>"
            ],
            "image/png": "[encoded data removed]"
          },
          "metadata": {
            "needs_background": "light"
          }
        }
      ]
    },
    {
      "cell_type": "markdown",
      "source": [
        "# **Model selections and hyperpameterisation for classification models**"
      ],
      "metadata": {
        "id": "aCsycxdP9t4s"
      }
    },
    {
      "cell_type": "markdown",
      "source": [
        "# **Logistic regression**"
      ],
      "metadata": {
        "id": "k2K2Bv1G92oW"
      }
    },
    {
      "cell_type": "code",
      "source": [
        "from sklearn.linear_model import LogisticRegression\n",
        "from sklearn.model_selection import train_test_split as tts\n",
        "from sklearn.preprocessing import StandardScaler as sc\n",
        "lr = LogisticRegression()\n",
        "x= df1.drop(\"stroke\" ,axis=1)\n",
        "y = df1[\"stroke\"]\n",
        "X_train,X_test,Y_train,Y_test = tts(x,y,test_size=0.30, random_state =100)\n",
        "scal = sc()\n",
        "X_train = scal.fit_transform(X_train)\n",
        "X_test = scal.fit_transform(X_test)\n",
        "lr.fit(X_train,Y_train)\n",
        "Y_pred = lr.predict(X_test)\n",
        "print(Y_pred)"
      ],
      "metadata": {
        "colab": {
          "base_uri": "https://localhost:8080/"
        },
        "id": "6iVDM__K9612",
        "outputId": "35d3ece0-cbf4-49d5-c602-1290fc4e95db"
      },
      "execution_count": 31,
      "outputs": [
        {
          "output_type": "stream",
          "name": "stdout",
          "text": [
            "[0 0 0 ... 0 0 0]\n"
          ]
        }
      ]
    },
    {
      "cell_type": "code",
      "source": [
        "lr.score(X_test,Y_test)"
      ],
      "metadata": {
        "colab": {
          "base_uri": "https://localhost:8080/"
        },
        "id": "ed8dPlaO9-zg",
        "outputId": "d77f3fc4-f3e0-4285-c399-9b24d62fab92"
      },
      "execution_count": 32,
      "outputs": [
        {
          "output_type": "execute_result",
          "data": {
            "text/plain": [
              "0.9549902152641878"
            ]
          },
          "metadata": {},
          "execution_count": 32
        }
      ]
    },
    {
      "cell_type": "code",
      "source": [
        "#cross val score\n",
        "from sklearn.model_selection import cross_val_score as cvs\n",
        "score = cvs(lr,x,y,cv=10)\n",
        "print(score)\n",
        "print(score.mean())"
      ],
      "metadata": {
        "colab": {
          "base_uri": "https://localhost:8080/"
        },
        "id": "CWARQmTw-HGP",
        "outputId": "c3f7c633-cacd-47ae-f789-1e26cbbd7973"
      },
      "execution_count": 33,
      "outputs": [
        {
          "output_type": "stream",
          "name": "stderr",
          "text": [
            "/usr/local/lib/python3.7/dist-packages/sklearn/linear_model/_logistic.py:818: ConvergenceWarning: lbfgs failed to converge (status=1):\n",
            "STOP: TOTAL NO. of ITERATIONS REACHED LIMIT.\n",
            "\n",
            "Increase the number of iterations (max_iter) or scale the data as shown in:\n",
            "    https://scikit-learn.org/stable/modules/preprocessing.html\n",
            "Please also refer to the documentation for alternative solver options:\n",
            "    https://scikit-learn.org/stable/modules/linear_model.html#logistic-regression\n",
            "  extra_warning_msg=_LOGISTIC_SOLVER_CONVERGENCE_MSG,\n",
            "/usr/local/lib/python3.7/dist-packages/sklearn/linear_model/_logistic.py:818: ConvergenceWarning: lbfgs failed to converge (status=1):\n",
            "STOP: TOTAL NO. of ITERATIONS REACHED LIMIT.\n",
            "\n",
            "Increase the number of iterations (max_iter) or scale the data as shown in:\n",
            "    https://scikit-learn.org/stable/modules/preprocessing.html\n",
            "Please also refer to the documentation for alternative solver options:\n",
            "    https://scikit-learn.org/stable/modules/linear_model.html#logistic-regression\n",
            "  extra_warning_msg=_LOGISTIC_SOLVER_CONVERGENCE_MSG,\n",
            "/usr/local/lib/python3.7/dist-packages/sklearn/linear_model/_logistic.py:818: ConvergenceWarning: lbfgs failed to converge (status=1):\n",
            "STOP: TOTAL NO. of ITERATIONS REACHED LIMIT.\n",
            "\n",
            "Increase the number of iterations (max_iter) or scale the data as shown in:\n",
            "    https://scikit-learn.org/stable/modules/preprocessing.html\n",
            "Please also refer to the documentation for alternative solver options:\n",
            "    https://scikit-learn.org/stable/modules/linear_model.html#logistic-regression\n",
            "  extra_warning_msg=_LOGISTIC_SOLVER_CONVERGENCE_MSG,\n",
            "/usr/local/lib/python3.7/dist-packages/sklearn/linear_model/_logistic.py:818: ConvergenceWarning: lbfgs failed to converge (status=1):\n",
            "STOP: TOTAL NO. of ITERATIONS REACHED LIMIT.\n",
            "\n",
            "Increase the number of iterations (max_iter) or scale the data as shown in:\n",
            "    https://scikit-learn.org/stable/modules/preprocessing.html\n",
            "Please also refer to the documentation for alternative solver options:\n",
            "    https://scikit-learn.org/stable/modules/linear_model.html#logistic-regression\n",
            "  extra_warning_msg=_LOGISTIC_SOLVER_CONVERGENCE_MSG,\n",
            "/usr/local/lib/python3.7/dist-packages/sklearn/linear_model/_logistic.py:818: ConvergenceWarning: lbfgs failed to converge (status=1):\n",
            "STOP: TOTAL NO. of ITERATIONS REACHED LIMIT.\n",
            "\n",
            "Increase the number of iterations (max_iter) or scale the data as shown in:\n",
            "    https://scikit-learn.org/stable/modules/preprocessing.html\n",
            "Please also refer to the documentation for alternative solver options:\n",
            "    https://scikit-learn.org/stable/modules/linear_model.html#logistic-regression\n",
            "  extra_warning_msg=_LOGISTIC_SOLVER_CONVERGENCE_MSG,\n",
            "/usr/local/lib/python3.7/dist-packages/sklearn/linear_model/_logistic.py:818: ConvergenceWarning: lbfgs failed to converge (status=1):\n",
            "STOP: TOTAL NO. of ITERATIONS REACHED LIMIT.\n",
            "\n",
            "Increase the number of iterations (max_iter) or scale the data as shown in:\n",
            "    https://scikit-learn.org/stable/modules/preprocessing.html\n",
            "Please also refer to the documentation for alternative solver options:\n",
            "    https://scikit-learn.org/stable/modules/linear_model.html#logistic-regression\n",
            "  extra_warning_msg=_LOGISTIC_SOLVER_CONVERGENCE_MSG,\n",
            "/usr/local/lib/python3.7/dist-packages/sklearn/linear_model/_logistic.py:818: ConvergenceWarning: lbfgs failed to converge (status=1):\n",
            "STOP: TOTAL NO. of ITERATIONS REACHED LIMIT.\n",
            "\n",
            "Increase the number of iterations (max_iter) or scale the data as shown in:\n",
            "    https://scikit-learn.org/stable/modules/preprocessing.html\n",
            "Please also refer to the documentation for alternative solver options:\n",
            "    https://scikit-learn.org/stable/modules/linear_model.html#logistic-regression\n",
            "  extra_warning_msg=_LOGISTIC_SOLVER_CONVERGENCE_MSG,\n",
            "/usr/local/lib/python3.7/dist-packages/sklearn/linear_model/_logistic.py:818: ConvergenceWarning: lbfgs failed to converge (status=1):\n",
            "STOP: TOTAL NO. of ITERATIONS REACHED LIMIT.\n",
            "\n",
            "Increase the number of iterations (max_iter) or scale the data as shown in:\n",
            "    https://scikit-learn.org/stable/modules/preprocessing.html\n",
            "Please also refer to the documentation for alternative solver options:\n",
            "    https://scikit-learn.org/stable/modules/linear_model.html#logistic-regression\n",
            "  extra_warning_msg=_LOGISTIC_SOLVER_CONVERGENCE_MSG,\n"
          ]
        },
        {
          "output_type": "stream",
          "name": "stdout",
          "text": [
            "[0.95107632 0.95107632 0.95107632 0.95107632 0.95107632 0.95107632\n",
            " 0.95107632 0.95107632 0.95107632 0.95303327]\n",
            "0.9512720156555773\n"
          ]
        },
        {
          "output_type": "stream",
          "name": "stderr",
          "text": [
            "/usr/local/lib/python3.7/dist-packages/sklearn/linear_model/_logistic.py:818: ConvergenceWarning: lbfgs failed to converge (status=1):\n",
            "STOP: TOTAL NO. of ITERATIONS REACHED LIMIT.\n",
            "\n",
            "Increase the number of iterations (max_iter) or scale the data as shown in:\n",
            "    https://scikit-learn.org/stable/modules/preprocessing.html\n",
            "Please also refer to the documentation for alternative solver options:\n",
            "    https://scikit-learn.org/stable/modules/linear_model.html#logistic-regression\n",
            "  extra_warning_msg=_LOGISTIC_SOLVER_CONVERGENCE_MSG,\n",
            "/usr/local/lib/python3.7/dist-packages/sklearn/linear_model/_logistic.py:818: ConvergenceWarning: lbfgs failed to converge (status=1):\n",
            "STOP: TOTAL NO. of ITERATIONS REACHED LIMIT.\n",
            "\n",
            "Increase the number of iterations (max_iter) or scale the data as shown in:\n",
            "    https://scikit-learn.org/stable/modules/preprocessing.html\n",
            "Please also refer to the documentation for alternative solver options:\n",
            "    https://scikit-learn.org/stable/modules/linear_model.html#logistic-regression\n",
            "  extra_warning_msg=_LOGISTIC_SOLVER_CONVERGENCE_MSG,\n"
          ]
        }
      ]
    },
    {
      "cell_type": "code",
      "source": [
        "from sklearn import metrics\n",
        "confusion2 = metrics.confusion_matrix(Y_test,Y_pred)\n",
        "confusion12 = metrics.classification_report(Y_test,Y_pred)\n",
        "print(confusion2)\n",
        "print(confusion12)"
      ],
      "metadata": {
        "colab": {
          "base_uri": "https://localhost:8080/"
        },
        "id": "4vMZd7wX-SBa",
        "outputId": "674c219a-baf5-4117-da3d-87da7ef3a200"
      },
      "execution_count": 34,
      "outputs": [
        {
          "output_type": "stream",
          "name": "stdout",
          "text": [
            "[[1464    0]\n",
            " [  69    0]]\n",
            "              precision    recall  f1-score   support\n",
            "\n",
            "           0       0.95      1.00      0.98      1464\n",
            "           1       0.00      0.00      0.00        69\n",
            "\n",
            "    accuracy                           0.95      1533\n",
            "   macro avg       0.48      0.50      0.49      1533\n",
            "weighted avg       0.91      0.95      0.93      1533\n",
            "\n"
          ]
        },
        {
          "output_type": "stream",
          "name": "stderr",
          "text": [
            "/usr/local/lib/python3.7/dist-packages/sklearn/metrics/_classification.py:1318: UndefinedMetricWarning: Precision and F-score are ill-defined and being set to 0.0 in labels with no predicted samples. Use `zero_division` parameter to control this behavior.\n",
            "  _warn_prf(average, modifier, msg_start, len(result))\n",
            "/usr/local/lib/python3.7/dist-packages/sklearn/metrics/_classification.py:1318: UndefinedMetricWarning: Precision and F-score are ill-defined and being set to 0.0 in labels with no predicted samples. Use `zero_division` parameter to control this behavior.\n",
            "  _warn_prf(average, modifier, msg_start, len(result))\n",
            "/usr/local/lib/python3.7/dist-packages/sklearn/metrics/_classification.py:1318: UndefinedMetricWarning: Precision and F-score are ill-defined and being set to 0.0 in labels with no predicted samples. Use `zero_division` parameter to control this behavior.\n",
            "  _warn_prf(average, modifier, msg_start, len(result))\n"
          ]
        }
      ]
    },
    {
      "cell_type": "markdown",
      "source": [
        "# **Random forest classifier**"
      ],
      "metadata": {
        "id": "jploK3Uq-ZZ_"
      }
    },
    {
      "cell_type": "code",
      "source": [
        "from sklearn.ensemble import RandomForestClassifier\n",
        "rfc =  RandomForestClassifier(n_estimators = 100, criterion = 'entropy')\n",
        "rfc.fit(X_train,Y_train)\n",
        "Y_rfpred = rfc.predict(X_test)\n",
        "print(Y_rfpred)\n",
        "print(rfc.score(X_test,Y_test))"
      ],
      "metadata": {
        "colab": {
          "base_uri": "https://localhost:8080/"
        },
        "id": "QjLlmbaX-b9Z",
        "outputId": "8e813c58-e16e-4ce0-d510-264242df7b8c"
      },
      "execution_count": 35,
      "outputs": [
        {
          "output_type": "stream",
          "name": "stdout",
          "text": [
            "[0 0 0 ... 0 0 0]\n",
            "0.9549902152641878\n"
          ]
        }
      ]
    },
    {
      "cell_type": "code",
      "source": [
        "#cross val score\n",
        "from sklearn.model_selection import cross_val_score as cvs\n",
        "score = cvs(rfc,x,y,cv=10)\n",
        "print(score)\n",
        "print(score.mean())"
      ],
      "metadata": {
        "colab": {
          "base_uri": "https://localhost:8080/"
        },
        "id": "I86SXjG3-fxE",
        "outputId": "5f4ae7c5-019a-4cc9-f507-77732de4e2cc"
      },
      "execution_count": 36,
      "outputs": [
        {
          "output_type": "stream",
          "name": "stdout",
          "text": [
            "[0.94911937 0.94911937 0.95107632 0.95303327 0.94520548 0.95107632\n",
            " 0.95107632 0.94911937 0.95107632 0.94911937]\n",
            "0.9499021526418787\n"
          ]
        }
      ]
    },
    {
      "cell_type": "code",
      "source": [
        "from sklearn import metrics\n",
        "confusion = metrics.confusion_matrix(Y_test,Y_rfpred)\n",
        "confusion1 = metrics.classification_report(Y_test,Y_rfpred)\n",
        "print(confusion)\n",
        "print(confusion1)"
      ],
      "metadata": {
        "colab": {
          "base_uri": "https://localhost:8080/"
        },
        "id": "dxzpvGFc-mbc",
        "outputId": "24dd0074-af97-44d9-f3f3-2538122bebfe"
      },
      "execution_count": 37,
      "outputs": [
        {
          "output_type": "stream",
          "name": "stdout",
          "text": [
            "[[1464    0]\n",
            " [  69    0]]\n",
            "              precision    recall  f1-score   support\n",
            "\n",
            "           0       0.95      1.00      0.98      1464\n",
            "           1       0.00      0.00      0.00        69\n",
            "\n",
            "    accuracy                           0.95      1533\n",
            "   macro avg       0.48      0.50      0.49      1533\n",
            "weighted avg       0.91      0.95      0.93      1533\n",
            "\n"
          ]
        },
        {
          "output_type": "stream",
          "name": "stderr",
          "text": [
            "/usr/local/lib/python3.7/dist-packages/sklearn/metrics/_classification.py:1318: UndefinedMetricWarning: Precision and F-score are ill-defined and being set to 0.0 in labels with no predicted samples. Use `zero_division` parameter to control this behavior.\n",
            "  _warn_prf(average, modifier, msg_start, len(result))\n",
            "/usr/local/lib/python3.7/dist-packages/sklearn/metrics/_classification.py:1318: UndefinedMetricWarning: Precision and F-score are ill-defined and being set to 0.0 in labels with no predicted samples. Use `zero_division` parameter to control this behavior.\n",
            "  _warn_prf(average, modifier, msg_start, len(result))\n",
            "/usr/local/lib/python3.7/dist-packages/sklearn/metrics/_classification.py:1318: UndefinedMetricWarning: Precision and F-score are ill-defined and being set to 0.0 in labels with no predicted samples. Use `zero_division` parameter to control this behavior.\n",
            "  _warn_prf(average, modifier, msg_start, len(result))\n"
          ]
        }
      ]
    },
    {
      "cell_type": "code",
      "source": [
        "from sklearn.model_selection import RandomizedSearchCV\n",
        "rfc1 =  RandomForestClassifier()\n",
        "lr = { 'n_estimators':[100,150,200,250,300,350,400,450,500],\n",
        "    'criterion':['gini','entropy'],\n",
        "    'max_depth': [0,1,2,3,4,5,6,7,8,9,10],\n",
        "    'min_samples_split':[0,1,2,4,6,8,10,12,14,16],\n",
        "    'min_samples_leaf':[0,1,3,5,7,9,11,13]}\n",
        "random = RandomizedSearchCV(estimator =rfc1 ,param_distributions=lr , scoring = 'accuracy', cv =10 , n_iter = 10, verbose =2)\n",
        "random.fit(X_train,Y_train)\n",
        "print(random.best_estimator_)\n",
        "print(random.best_params_)"
      ],
      "metadata": {
        "colab": {
          "base_uri": "https://localhost:8080/"
        },
        "id": "DOQGiHm4-oYC",
        "outputId": "3f3294cf-3460-450e-9e7c-9c82871774de"
      },
      "execution_count": 38,
      "outputs": [
        {
          "output_type": "stream",
          "name": "stdout",
          "text": [
            "Fitting 10 folds for each of 10 candidates, totalling 100 fits\n",
            "[CV] END criterion=gini, max_depth=1, min_samples_leaf=1, min_samples_split=14, n_estimators=350; total time=   3.0s\n",
            "[CV] END criterion=gini, max_depth=1, min_samples_leaf=1, min_samples_split=14, n_estimators=350; total time=   1.0s\n",
            "[CV] END criterion=gini, max_depth=1, min_samples_leaf=1, min_samples_split=14, n_estimators=350; total time=   0.7s\n",
            "[CV] END criterion=gini, max_depth=1, min_samples_leaf=1, min_samples_split=14, n_estimators=350; total time=   0.7s\n",
            "[CV] END criterion=gini, max_depth=1, min_samples_leaf=1, min_samples_split=14, n_estimators=350; total time=   0.7s\n",
            "[CV] END criterion=gini, max_depth=1, min_samples_leaf=1, min_samples_split=14, n_estimators=350; total time=   0.6s\n",
            "[CV] END criterion=gini, max_depth=1, min_samples_leaf=1, min_samples_split=14, n_estimators=350; total time=   0.7s\n",
            "[CV] END criterion=gini, max_depth=1, min_samples_leaf=1, min_samples_split=14, n_estimators=350; total time=   0.7s\n",
            "[CV] END criterion=gini, max_depth=1, min_samples_leaf=1, min_samples_split=14, n_estimators=350; total time=   0.7s\n",
            "[CV] END criterion=gini, max_depth=1, min_samples_leaf=1, min_samples_split=14, n_estimators=350; total time=   0.7s\n",
            "[CV] END criterion=entropy, max_depth=7, min_samples_leaf=9, min_samples_split=6, n_estimators=350; total time=   1.1s\n",
            "[CV] END criterion=entropy, max_depth=7, min_samples_leaf=9, min_samples_split=6, n_estimators=350; total time=   1.1s\n",
            "[CV] END criterion=entropy, max_depth=7, min_samples_leaf=9, min_samples_split=6, n_estimators=350; total time=   1.1s\n",
            "[CV] END criterion=entropy, max_depth=7, min_samples_leaf=9, min_samples_split=6, n_estimators=350; total time=   1.2s\n",
            "[CV] END criterion=entropy, max_depth=7, min_samples_leaf=9, min_samples_split=6, n_estimators=350; total time=   1.1s\n",
            "[CV] END criterion=entropy, max_depth=7, min_samples_leaf=9, min_samples_split=6, n_estimators=350; total time=   1.1s\n",
            "[CV] END criterion=entropy, max_depth=7, min_samples_leaf=9, min_samples_split=6, n_estimators=350; total time=   1.1s\n",
            "[CV] END criterion=entropy, max_depth=7, min_samples_leaf=9, min_samples_split=6, n_estimators=350; total time=   1.1s\n",
            "[CV] END criterion=entropy, max_depth=7, min_samples_leaf=9, min_samples_split=6, n_estimators=350; total time=   1.1s\n",
            "[CV] END criterion=entropy, max_depth=7, min_samples_leaf=9, min_samples_split=6, n_estimators=350; total time=   1.9s\n",
            "[CV] END criterion=gini, max_depth=10, min_samples_leaf=11, min_samples_split=2, n_estimators=250; total time=   0.8s\n",
            "[CV] END criterion=gini, max_depth=10, min_samples_leaf=11, min_samples_split=2, n_estimators=250; total time=   0.8s\n",
            "[CV] END criterion=gini, max_depth=10, min_samples_leaf=11, min_samples_split=2, n_estimators=250; total time=   0.7s\n",
            "[CV] END criterion=gini, max_depth=10, min_samples_leaf=11, min_samples_split=2, n_estimators=250; total time=   0.8s\n",
            "[CV] END criterion=gini, max_depth=10, min_samples_leaf=11, min_samples_split=2, n_estimators=250; total time=   0.8s\n",
            "[CV] END criterion=gini, max_depth=10, min_samples_leaf=11, min_samples_split=2, n_estimators=250; total time=   0.8s\n",
            "[CV] END criterion=gini, max_depth=10, min_samples_leaf=11, min_samples_split=2, n_estimators=250; total time=   0.7s\n",
            "[CV] END criterion=gini, max_depth=10, min_samples_leaf=11, min_samples_split=2, n_estimators=250; total time=   0.8s\n",
            "[CV] END criterion=gini, max_depth=10, min_samples_leaf=11, min_samples_split=2, n_estimators=250; total time=   0.8s\n",
            "[CV] END criterion=gini, max_depth=10, min_samples_leaf=11, min_samples_split=2, n_estimators=250; total time=   0.8s\n",
            "[CV] END criterion=entropy, max_depth=2, min_samples_leaf=1, min_samples_split=6, n_estimators=250; total time=   0.5s\n",
            "[CV] END criterion=entropy, max_depth=2, min_samples_leaf=1, min_samples_split=6, n_estimators=250; total time=   0.6s\n",
            "[CV] END criterion=entropy, max_depth=2, min_samples_leaf=1, min_samples_split=6, n_estimators=250; total time=   0.5s\n",
            "[CV] END criterion=entropy, max_depth=2, min_samples_leaf=1, min_samples_split=6, n_estimators=250; total time=   0.5s\n",
            "[CV] END criterion=entropy, max_depth=2, min_samples_leaf=1, min_samples_split=6, n_estimators=250; total time=   0.5s\n",
            "[CV] END criterion=entropy, max_depth=2, min_samples_leaf=1, min_samples_split=6, n_estimators=250; total time=   0.6s\n",
            "[CV] END criterion=entropy, max_depth=2, min_samples_leaf=1, min_samples_split=6, n_estimators=250; total time=   0.6s\n",
            "[CV] END criterion=entropy, max_depth=2, min_samples_leaf=1, min_samples_split=6, n_estimators=250; total time=   0.6s\n",
            "[CV] END criterion=entropy, max_depth=2, min_samples_leaf=1, min_samples_split=6, n_estimators=250; total time=   0.5s\n",
            "[CV] END criterion=entropy, max_depth=2, min_samples_leaf=1, min_samples_split=6, n_estimators=250; total time=   0.5s\n",
            "[CV] END criterion=gini, max_depth=7, min_samples_leaf=0, min_samples_split=8, n_estimators=400; total time=   0.2s\n",
            "[CV] END criterion=gini, max_depth=7, min_samples_leaf=0, min_samples_split=8, n_estimators=400; total time=   0.2s\n",
            "[CV] END criterion=gini, max_depth=7, min_samples_leaf=0, min_samples_split=8, n_estimators=400; total time=   0.2s\n",
            "[CV] END criterion=gini, max_depth=7, min_samples_leaf=0, min_samples_split=8, n_estimators=400; total time=   0.2s\n",
            "[CV] END criterion=gini, max_depth=7, min_samples_leaf=0, min_samples_split=8, n_estimators=400; total time=   0.1s\n",
            "[CV] END criterion=gini, max_depth=7, min_samples_leaf=0, min_samples_split=8, n_estimators=400; total time=   0.2s\n",
            "[CV] END criterion=gini, max_depth=7, min_samples_leaf=0, min_samples_split=8, n_estimators=400; total time=   0.2s\n",
            "[CV] END criterion=gini, max_depth=7, min_samples_leaf=0, min_samples_split=8, n_estimators=400; total time=   0.2s\n",
            "[CV] END criterion=gini, max_depth=7, min_samples_leaf=0, min_samples_split=8, n_estimators=400; total time=   0.1s\n",
            "[CV] END criterion=gini, max_depth=7, min_samples_leaf=0, min_samples_split=8, n_estimators=400; total time=   0.2s\n",
            "[CV] END criterion=gini, max_depth=3, min_samples_leaf=9, min_samples_split=1, n_estimators=500; total time=   0.2s\n",
            "[CV] END criterion=gini, max_depth=3, min_samples_leaf=9, min_samples_split=1, n_estimators=500; total time=   0.2s\n",
            "[CV] END criterion=gini, max_depth=3, min_samples_leaf=9, min_samples_split=1, n_estimators=500; total time=   0.2s\n",
            "[CV] END criterion=gini, max_depth=3, min_samples_leaf=9, min_samples_split=1, n_estimators=500; total time=   0.2s\n",
            "[CV] END criterion=gini, max_depth=3, min_samples_leaf=9, min_samples_split=1, n_estimators=500; total time=   0.2s\n",
            "[CV] END criterion=gini, max_depth=3, min_samples_leaf=9, min_samples_split=1, n_estimators=500; total time=   0.2s\n",
            "[CV] END criterion=gini, max_depth=3, min_samples_leaf=9, min_samples_split=1, n_estimators=500; total time=   0.2s\n",
            "[CV] END criterion=gini, max_depth=3, min_samples_leaf=9, min_samples_split=1, n_estimators=500; total time=   0.2s\n",
            "[CV] END criterion=gini, max_depth=3, min_samples_leaf=9, min_samples_split=1, n_estimators=500; total time=   0.2s\n",
            "[CV] END criterion=gini, max_depth=3, min_samples_leaf=9, min_samples_split=1, n_estimators=500; total time=   0.2s\n",
            "[CV] END criterion=gini, max_depth=0, min_samples_leaf=0, min_samples_split=8, n_estimators=400; total time=   0.2s\n",
            "[CV] END criterion=gini, max_depth=0, min_samples_leaf=0, min_samples_split=8, n_estimators=400; total time=   0.2s\n",
            "[CV] END criterion=gini, max_depth=0, min_samples_leaf=0, min_samples_split=8, n_estimators=400; total time=   0.2s\n",
            "[CV] END criterion=gini, max_depth=0, min_samples_leaf=0, min_samples_split=8, n_estimators=400; total time=   0.2s\n",
            "[CV] END criterion=gini, max_depth=0, min_samples_leaf=0, min_samples_split=8, n_estimators=400; total time=   0.1s\n",
            "[CV] END criterion=gini, max_depth=0, min_samples_leaf=0, min_samples_split=8, n_estimators=400; total time=   0.2s\n",
            "[CV] END criterion=gini, max_depth=0, min_samples_leaf=0, min_samples_split=8, n_estimators=400; total time=   0.2s\n",
            "[CV] END criterion=gini, max_depth=0, min_samples_leaf=0, min_samples_split=8, n_estimators=400; total time=   0.1s\n",
            "[CV] END criterion=gini, max_depth=0, min_samples_leaf=0, min_samples_split=8, n_estimators=400; total time=   0.1s\n",
            "[CV] END criterion=gini, max_depth=0, min_samples_leaf=0, min_samples_split=8, n_estimators=400; total time=   0.2s\n",
            "[CV] END criterion=gini, max_depth=4, min_samples_leaf=9, min_samples_split=16, n_estimators=350; total time=   0.9s\n",
            "[CV] END criterion=gini, max_depth=4, min_samples_leaf=9, min_samples_split=16, n_estimators=350; total time=   0.9s\n",
            "[CV] END criterion=gini, max_depth=4, min_samples_leaf=9, min_samples_split=16, n_estimators=350; total time=   0.9s\n",
            "[CV] END criterion=gini, max_depth=4, min_samples_leaf=9, min_samples_split=16, n_estimators=350; total time=   0.8s\n",
            "[CV] END criterion=gini, max_depth=4, min_samples_leaf=9, min_samples_split=16, n_estimators=350; total time=   0.9s\n",
            "[CV] END criterion=gini, max_depth=4, min_samples_leaf=9, min_samples_split=16, n_estimators=350; total time=   0.9s\n",
            "[CV] END criterion=gini, max_depth=4, min_samples_leaf=9, min_samples_split=16, n_estimators=350; total time=   0.9s\n",
            "[CV] END criterion=gini, max_depth=4, min_samples_leaf=9, min_samples_split=16, n_estimators=350; total time=   0.9s\n",
            "[CV] END criterion=gini, max_depth=4, min_samples_leaf=9, min_samples_split=16, n_estimators=350; total time=   0.9s\n",
            "[CV] END criterion=gini, max_depth=4, min_samples_leaf=9, min_samples_split=16, n_estimators=350; total time=   0.9s\n",
            "[CV] END criterion=entropy, max_depth=2, min_samples_leaf=5, min_samples_split=1, n_estimators=100; total time=   0.0s\n",
            "[CV] END criterion=entropy, max_depth=2, min_samples_leaf=5, min_samples_split=1, n_estimators=100; total time=   0.0s\n",
            "[CV] END criterion=entropy, max_depth=2, min_samples_leaf=5, min_samples_split=1, n_estimators=100; total time=   0.0s\n",
            "[CV] END criterion=entropy, max_depth=2, min_samples_leaf=5, min_samples_split=1, n_estimators=100; total time=   0.0s\n",
            "[CV] END criterion=entropy, max_depth=2, min_samples_leaf=5, min_samples_split=1, n_estimators=100; total time=   0.0s\n",
            "[CV] END criterion=entropy, max_depth=2, min_samples_leaf=5, min_samples_split=1, n_estimators=100; total time=   0.0s\n",
            "[CV] END criterion=entropy, max_depth=2, min_samples_leaf=5, min_samples_split=1, n_estimators=100; total time=   0.0s\n",
            "[CV] END criterion=entropy, max_depth=2, min_samples_leaf=5, min_samples_split=1, n_estimators=100; total time=   0.0s\n",
            "[CV] END criterion=entropy, max_depth=2, min_samples_leaf=5, min_samples_split=1, n_estimators=100; total time=   0.0s\n",
            "[CV] END criterion=entropy, max_depth=2, min_samples_leaf=5, min_samples_split=1, n_estimators=100; total time=   0.0s\n",
            "[CV] END criterion=gini, max_depth=1, min_samples_leaf=5, min_samples_split=2, n_estimators=300; total time=   0.6s\n",
            "[CV] END criterion=gini, max_depth=1, min_samples_leaf=5, min_samples_split=2, n_estimators=300; total time=   0.6s\n",
            "[CV] END criterion=gini, max_depth=1, min_samples_leaf=5, min_samples_split=2, n_estimators=300; total time=   0.6s\n",
            "[CV] END criterion=gini, max_depth=1, min_samples_leaf=5, min_samples_split=2, n_estimators=300; total time=   0.6s\n",
            "[CV] END criterion=gini, max_depth=1, min_samples_leaf=5, min_samples_split=2, n_estimators=300; total time=   0.6s\n",
            "[CV] END criterion=gini, max_depth=1, min_samples_leaf=5, min_samples_split=2, n_estimators=300; total time=   0.6s\n",
            "[CV] END criterion=gini, max_depth=1, min_samples_leaf=5, min_samples_split=2, n_estimators=300; total time=   0.6s\n",
            "[CV] END criterion=gini, max_depth=1, min_samples_leaf=5, min_samples_split=2, n_estimators=300; total time=   0.5s\n",
            "[CV] END criterion=gini, max_depth=1, min_samples_leaf=5, min_samples_split=2, n_estimators=300; total time=   0.6s\n",
            "[CV] END criterion=gini, max_depth=1, min_samples_leaf=5, min_samples_split=2, n_estimators=300; total time=   0.6s\n"
          ]
        },
        {
          "output_type": "stream",
          "name": "stderr",
          "text": [
            "/usr/local/lib/python3.7/dist-packages/sklearn/model_selection/_validation.py:372: FitFailedWarning: \n",
            "40 fits failed out of a total of 100.\n",
            "The score on these train-test partitions for these parameters will be set to nan.\n",
            "If these failures are not expected, you can try to debug them by setting error_score='raise'.\n",
            "\n",
            "Below are more details about the failures:\n",
            "--------------------------------------------------------------------------------\n",
            "20 fits failed with the following error:\n",
            "Traceback (most recent call last):\n",
            "  File \"/usr/local/lib/python3.7/dist-packages/sklearn/model_selection/_validation.py\", line 680, in _fit_and_score\n",
            "    estimator.fit(X_train, y_train, **fit_params)\n",
            "  File \"/usr/local/lib/python3.7/dist-packages/sklearn/ensemble/_forest.py\", line 467, in fit\n",
            "    for i, t in enumerate(trees)\n",
            "  File \"/usr/local/lib/python3.7/dist-packages/joblib/parallel.py\", line 1043, in __call__\n",
            "    if self.dispatch_one_batch(iterator):\n",
            "  File \"/usr/local/lib/python3.7/dist-packages/joblib/parallel.py\", line 861, in dispatch_one_batch\n",
            "    self._dispatch(tasks)\n",
            "  File \"/usr/local/lib/python3.7/dist-packages/joblib/parallel.py\", line 779, in _dispatch\n",
            "    job = self._backend.apply_async(batch, callback=cb)\n",
            "  File \"/usr/local/lib/python3.7/dist-packages/joblib/_parallel_backends.py\", line 208, in apply_async\n",
            "    result = ImmediateResult(func)\n",
            "  File \"/usr/local/lib/python3.7/dist-packages/joblib/_parallel_backends.py\", line 572, in __init__\n",
            "    self.results = batch()\n",
            "  File \"/usr/local/lib/python3.7/dist-packages/joblib/parallel.py\", line 263, in __call__\n",
            "    for func, args, kwargs in self.items]\n",
            "  File \"/usr/local/lib/python3.7/dist-packages/joblib/parallel.py\", line 263, in <listcomp>\n",
            "    for func, args, kwargs in self.items]\n",
            "  File \"/usr/local/lib/python3.7/dist-packages/sklearn/utils/fixes.py\", line 216, in __call__\n",
            "    return self.function(*args, **kwargs)\n",
            "  File \"/usr/local/lib/python3.7/dist-packages/sklearn/ensemble/_forest.py\", line 185, in _parallel_build_trees\n",
            "    tree.fit(X, y, sample_weight=curr_sample_weight, check_input=False)\n",
            "  File \"/usr/local/lib/python3.7/dist-packages/sklearn/tree/_classes.py\", line 942, in fit\n",
            "    X_idx_sorted=X_idx_sorted,\n",
            "  File \"/usr/local/lib/python3.7/dist-packages/sklearn/tree/_classes.py\", line 237, in fit\n",
            "    % self.min_samples_leaf\n",
            "ValueError: min_samples_leaf must be at least 1 or in (0, 0.5], got 0\n",
            "\n",
            "--------------------------------------------------------------------------------\n",
            "20 fits failed with the following error:\n",
            "Traceback (most recent call last):\n",
            "  File \"/usr/local/lib/python3.7/dist-packages/sklearn/model_selection/_validation.py\", line 680, in _fit_and_score\n",
            "    estimator.fit(X_train, y_train, **fit_params)\n",
            "  File \"/usr/local/lib/python3.7/dist-packages/sklearn/ensemble/_forest.py\", line 467, in fit\n",
            "    for i, t in enumerate(trees)\n",
            "  File \"/usr/local/lib/python3.7/dist-packages/joblib/parallel.py\", line 1043, in __call__\n",
            "    if self.dispatch_one_batch(iterator):\n",
            "  File \"/usr/local/lib/python3.7/dist-packages/joblib/parallel.py\", line 861, in dispatch_one_batch\n",
            "    self._dispatch(tasks)\n",
            "  File \"/usr/local/lib/python3.7/dist-packages/joblib/parallel.py\", line 779, in _dispatch\n",
            "    job = self._backend.apply_async(batch, callback=cb)\n",
            "  File \"/usr/local/lib/python3.7/dist-packages/joblib/_parallel_backends.py\", line 208, in apply_async\n",
            "    result = ImmediateResult(func)\n",
            "  File \"/usr/local/lib/python3.7/dist-packages/joblib/_parallel_backends.py\", line 572, in __init__\n",
            "    self.results = batch()\n",
            "  File \"/usr/local/lib/python3.7/dist-packages/joblib/parallel.py\", line 263, in __call__\n",
            "    for func, args, kwargs in self.items]\n",
            "  File \"/usr/local/lib/python3.7/dist-packages/joblib/parallel.py\", line 263, in <listcomp>\n",
            "    for func, args, kwargs in self.items]\n",
            "  File \"/usr/local/lib/python3.7/dist-packages/sklearn/utils/fixes.py\", line 216, in __call__\n",
            "    return self.function(*args, **kwargs)\n",
            "  File \"/usr/local/lib/python3.7/dist-packages/sklearn/ensemble/_forest.py\", line 185, in _parallel_build_trees\n",
            "    tree.fit(X, y, sample_weight=curr_sample_weight, check_input=False)\n",
            "  File \"/usr/local/lib/python3.7/dist-packages/sklearn/tree/_classes.py\", line 942, in fit\n",
            "    X_idx_sorted=X_idx_sorted,\n",
            "  File \"/usr/local/lib/python3.7/dist-packages/sklearn/tree/_classes.py\", line 254, in fit\n",
            "    % self.min_samples_split\n",
            "ValueError: min_samples_split must be an integer greater than 1 or a float in (0.0, 1.0]; got the integer 1\n",
            "\n",
            "  warnings.warn(some_fits_failed_message, FitFailedWarning)\n",
            "/usr/local/lib/python3.7/dist-packages/sklearn/model_selection/_search.py:972: UserWarning: One or more of the test scores are non-finite: [0.94967842 0.94967842 0.94967842 0.94967842        nan        nan\n",
            "        nan 0.94967842        nan 0.94967842]\n",
            "  category=UserWarning,\n"
          ]
        },
        {
          "output_type": "stream",
          "name": "stdout",
          "text": [
            "RandomForestClassifier(max_depth=1, min_samples_split=14, n_estimators=350)\n",
            "{'n_estimators': 350, 'min_samples_split': 14, 'min_samples_leaf': 1, 'max_depth': 1, 'criterion': 'gini'}\n"
          ]
        }
      ]
    },
    {
      "cell_type": "code",
      "source": [
        "random.best_score_"
      ],
      "metadata": {
        "colab": {
          "base_uri": "https://localhost:8080/"
        },
        "id": "kdQ9x3rK_Smo",
        "outputId": "13156fbf-acfc-4759-dc9e-835d4652c827"
      },
      "execution_count": 39,
      "outputs": [
        {
          "output_type": "execute_result",
          "data": {
            "text/plain": [
              "0.9496784188535748"
            ]
          },
          "metadata": {},
          "execution_count": 39
        }
      ]
    },
    {
      "cell_type": "markdown",
      "source": [
        "# **Adaptive boost and its hyperparameter optimisation**"
      ],
      "metadata": {
        "id": "-kgPi3Sy_cJI"
      }
    },
    {
      "cell_type": "code",
      "source": [
        "from sklearn.ensemble import AdaBoostClassifier\n",
        "ada =  AdaBoostClassifier()"
      ],
      "metadata": {
        "id": "11jEfRj1_XlD"
      },
      "execution_count": 40,
      "outputs": []
    },
    {
      "cell_type": "code",
      "source": [
        "lr1 = { 'n_estimators':[0,100,150,200,250,300],\n",
        "    'learning_rate':[0.1,0.3,0.5,0.7,0.9,1.0],\n",
        "    'algorithm':['SAMME.R']}\n",
        "random1 = RandomizedSearchCV(estimator =ada ,param_distributions=lr1 , scoring = 'accuracy', cv =10 , n_iter = 10, verbose =2)\n",
        "random1.fit(X_train,Y_train)\n",
        "print(random1.best_estimator_)\n",
        "print(random1.best_params_)"
      ],
      "metadata": {
        "colab": {
          "base_uri": "https://localhost:8080/"
        },
        "id": "I4BQJNYO_sLo",
        "outputId": "a34c4691-5014-430b-bf87-a7320df28bdf"
      },
      "execution_count": 41,
      "outputs": [
        {
          "output_type": "stream",
          "name": "stdout",
          "text": [
            "Fitting 10 folds for each of 10 candidates, totalling 100 fits\n",
            "[CV] END algorithm=SAMME.R, learning_rate=1.0, n_estimators=250; total time=   2.4s\n",
            "[CV] END algorithm=SAMME.R, learning_rate=1.0, n_estimators=250; total time=   2.8s\n",
            "[CV] END algorithm=SAMME.R, learning_rate=1.0, n_estimators=250; total time=   1.5s\n",
            "[CV] END algorithm=SAMME.R, learning_rate=1.0, n_estimators=250; total time=   1.0s\n",
            "[CV] END algorithm=SAMME.R, learning_rate=1.0, n_estimators=250; total time=   1.0s\n",
            "[CV] END algorithm=SAMME.R, learning_rate=1.0, n_estimators=250; total time=   1.0s\n",
            "[CV] END algorithm=SAMME.R, learning_rate=1.0, n_estimators=250; total time=   1.0s\n",
            "[CV] END algorithm=SAMME.R, learning_rate=1.0, n_estimators=250; total time=   1.0s\n",
            "[CV] END algorithm=SAMME.R, learning_rate=1.0, n_estimators=250; total time=   1.0s\n",
            "[CV] END algorithm=SAMME.R, learning_rate=1.0, n_estimators=250; total time=   0.9s\n",
            "[CV] END algorithm=SAMME.R, learning_rate=1.0, n_estimators=100; total time=   0.4s\n",
            "[CV] END algorithm=SAMME.R, learning_rate=1.0, n_estimators=100; total time=   0.4s\n",
            "[CV] END algorithm=SAMME.R, learning_rate=1.0, n_estimators=100; total time=   0.4s\n",
            "[CV] END algorithm=SAMME.R, learning_rate=1.0, n_estimators=100; total time=   0.4s\n",
            "[CV] END algorithm=SAMME.R, learning_rate=1.0, n_estimators=100; total time=   0.4s\n",
            "[CV] END algorithm=SAMME.R, learning_rate=1.0, n_estimators=100; total time=   0.4s\n",
            "[CV] END algorithm=SAMME.R, learning_rate=1.0, n_estimators=100; total time=   0.4s\n",
            "[CV] END algorithm=SAMME.R, learning_rate=1.0, n_estimators=100; total time=   0.4s\n",
            "[CV] END algorithm=SAMME.R, learning_rate=1.0, n_estimators=100; total time=   0.4s\n",
            "[CV] END algorithm=SAMME.R, learning_rate=1.0, n_estimators=100; total time=   0.4s\n",
            "[CV] END algorithm=SAMME.R, learning_rate=1.0, n_estimators=0; total time=   0.0s\n",
            "[CV] END algorithm=SAMME.R, learning_rate=1.0, n_estimators=0; total time=   0.0s\n",
            "[CV] END algorithm=SAMME.R, learning_rate=1.0, n_estimators=0; total time=   0.0s\n",
            "[CV] END algorithm=SAMME.R, learning_rate=1.0, n_estimators=0; total time=   0.0s\n",
            "[CV] END algorithm=SAMME.R, learning_rate=1.0, n_estimators=0; total time=   0.0s\n",
            "[CV] END algorithm=SAMME.R, learning_rate=1.0, n_estimators=0; total time=   0.0s\n",
            "[CV] END algorithm=SAMME.R, learning_rate=1.0, n_estimators=0; total time=   0.0s\n",
            "[CV] END algorithm=SAMME.R, learning_rate=1.0, n_estimators=0; total time=   0.0s\n",
            "[CV] END algorithm=SAMME.R, learning_rate=1.0, n_estimators=0; total time=   0.0s\n",
            "[CV] END algorithm=SAMME.R, learning_rate=1.0, n_estimators=0; total time=   0.0s\n",
            "[CV] END algorithm=SAMME.R, learning_rate=0.7, n_estimators=0; total time=   0.0s\n",
            "[CV] END algorithm=SAMME.R, learning_rate=0.7, n_estimators=0; total time=   0.0s\n",
            "[CV] END algorithm=SAMME.R, learning_rate=0.7, n_estimators=0; total time=   0.0s\n",
            "[CV] END algorithm=SAMME.R, learning_rate=0.7, n_estimators=0; total time=   0.0s\n",
            "[CV] END algorithm=SAMME.R, learning_rate=0.7, n_estimators=0; total time=   0.0s\n",
            "[CV] END algorithm=SAMME.R, learning_rate=0.7, n_estimators=0; total time=   0.0s\n",
            "[CV] END algorithm=SAMME.R, learning_rate=0.7, n_estimators=0; total time=   0.0s\n",
            "[CV] END algorithm=SAMME.R, learning_rate=0.7, n_estimators=0; total time=   0.0s\n",
            "[CV] END algorithm=SAMME.R, learning_rate=0.7, n_estimators=0; total time=   0.0s\n",
            "[CV] END algorithm=SAMME.R, learning_rate=0.7, n_estimators=0; total time=   0.0s\n",
            "[CV] END algorithm=SAMME.R, learning_rate=1.0, n_estimators=200; total time=   0.8s\n",
            "[CV] END algorithm=SAMME.R, learning_rate=1.0, n_estimators=200; total time=   0.8s\n",
            "[CV] END algorithm=SAMME.R, learning_rate=1.0, n_estimators=200; total time=   0.8s\n",
            "[CV] END algorithm=SAMME.R, learning_rate=1.0, n_estimators=200; total time=   0.8s\n",
            "[CV] END algorithm=SAMME.R, learning_rate=1.0, n_estimators=200; total time=   0.8s\n",
            "[CV] END algorithm=SAMME.R, learning_rate=1.0, n_estimators=200; total time=   0.8s\n",
            "[CV] END algorithm=SAMME.R, learning_rate=1.0, n_estimators=200; total time=   0.8s\n",
            "[CV] END algorithm=SAMME.R, learning_rate=1.0, n_estimators=200; total time=   0.8s\n",
            "[CV] END algorithm=SAMME.R, learning_rate=1.0, n_estimators=200; total time=   0.8s\n",
            "[CV] END algorithm=SAMME.R, learning_rate=1.0, n_estimators=200; total time=   0.8s\n",
            "[CV] END algorithm=SAMME.R, learning_rate=0.3, n_estimators=250; total time=   1.0s\n",
            "[CV] END algorithm=SAMME.R, learning_rate=0.3, n_estimators=250; total time=   1.0s\n",
            "[CV] END algorithm=SAMME.R, learning_rate=0.3, n_estimators=250; total time=   1.0s\n",
            "[CV] END algorithm=SAMME.R, learning_rate=0.3, n_estimators=250; total time=   1.0s\n",
            "[CV] END algorithm=SAMME.R, learning_rate=0.3, n_estimators=250; total time=   1.0s\n",
            "[CV] END algorithm=SAMME.R, learning_rate=0.3, n_estimators=250; total time=   1.0s\n",
            "[CV] END algorithm=SAMME.R, learning_rate=0.3, n_estimators=250; total time=   0.9s\n",
            "[CV] END algorithm=SAMME.R, learning_rate=0.3, n_estimators=250; total time=   1.0s\n",
            "[CV] END algorithm=SAMME.R, learning_rate=0.3, n_estimators=250; total time=   1.0s\n",
            "[CV] END algorithm=SAMME.R, learning_rate=0.3, n_estimators=250; total time=   1.0s\n",
            "[CV] END algorithm=SAMME.R, learning_rate=0.5, n_estimators=0; total time=   0.0s\n",
            "[CV] END algorithm=SAMME.R, learning_rate=0.5, n_estimators=0; total time=   0.0s\n",
            "[CV] END algorithm=SAMME.R, learning_rate=0.5, n_estimators=0; total time=   0.0s\n",
            "[CV] END algorithm=SAMME.R, learning_rate=0.5, n_estimators=0; total time=   0.0s\n",
            "[CV] END algorithm=SAMME.R, learning_rate=0.5, n_estimators=0; total time=   0.0s\n",
            "[CV] END algorithm=SAMME.R, learning_rate=0.5, n_estimators=0; total time=   0.0s\n",
            "[CV] END algorithm=SAMME.R, learning_rate=0.5, n_estimators=0; total time=   0.0s\n",
            "[CV] END algorithm=SAMME.R, learning_rate=0.5, n_estimators=0; total time=   0.0s\n",
            "[CV] END algorithm=SAMME.R, learning_rate=0.5, n_estimators=0; total time=   0.0s\n",
            "[CV] END algorithm=SAMME.R, learning_rate=0.5, n_estimators=0; total time=   0.0s\n",
            "[CV] END algorithm=SAMME.R, learning_rate=0.5, n_estimators=100; total time=   0.4s\n",
            "[CV] END algorithm=SAMME.R, learning_rate=0.5, n_estimators=100; total time=   0.4s\n",
            "[CV] END algorithm=SAMME.R, learning_rate=0.5, n_estimators=100; total time=   0.4s\n",
            "[CV] END algorithm=SAMME.R, learning_rate=0.5, n_estimators=100; total time=   0.4s\n",
            "[CV] END algorithm=SAMME.R, learning_rate=0.5, n_estimators=100; total time=   0.4s\n",
            "[CV] END algorithm=SAMME.R, learning_rate=0.5, n_estimators=100; total time=   0.4s\n",
            "[CV] END algorithm=SAMME.R, learning_rate=0.5, n_estimators=100; total time=   0.4s\n",
            "[CV] END algorithm=SAMME.R, learning_rate=0.5, n_estimators=100; total time=   0.4s\n",
            "[CV] END algorithm=SAMME.R, learning_rate=0.5, n_estimators=100; total time=   0.4s\n",
            "[CV] END algorithm=SAMME.R, learning_rate=0.5, n_estimators=100; total time=   0.4s\n",
            "[CV] END algorithm=SAMME.R, learning_rate=0.9, n_estimators=100; total time=   0.4s\n",
            "[CV] END algorithm=SAMME.R, learning_rate=0.9, n_estimators=100; total time=   0.4s\n",
            "[CV] END algorithm=SAMME.R, learning_rate=0.9, n_estimators=100; total time=   0.4s\n",
            "[CV] END algorithm=SAMME.R, learning_rate=0.9, n_estimators=100; total time=   0.4s\n",
            "[CV] END algorithm=SAMME.R, learning_rate=0.9, n_estimators=100; total time=   0.4s\n",
            "[CV] END algorithm=SAMME.R, learning_rate=0.9, n_estimators=100; total time=   0.4s\n",
            "[CV] END algorithm=SAMME.R, learning_rate=0.9, n_estimators=100; total time=   0.4s\n",
            "[CV] END algorithm=SAMME.R, learning_rate=0.9, n_estimators=100; total time=   0.4s\n",
            "[CV] END algorithm=SAMME.R, learning_rate=0.9, n_estimators=100; total time=   0.4s\n",
            "[CV] END algorithm=SAMME.R, learning_rate=0.9, n_estimators=100; total time=   0.4s\n",
            "[CV] END algorithm=SAMME.R, learning_rate=0.3, n_estimators=0; total time=   0.0s\n",
            "[CV] END algorithm=SAMME.R, learning_rate=0.3, n_estimators=0; total time=   0.0s\n",
            "[CV] END algorithm=SAMME.R, learning_rate=0.3, n_estimators=0; total time=   0.0s\n",
            "[CV] END algorithm=SAMME.R, learning_rate=0.3, n_estimators=0; total time=   0.0s\n",
            "[CV] END algorithm=SAMME.R, learning_rate=0.3, n_estimators=0; total time=   0.0s\n",
            "[CV] END algorithm=SAMME.R, learning_rate=0.3, n_estimators=0; total time=   0.0s\n",
            "[CV] END algorithm=SAMME.R, learning_rate=0.3, n_estimators=0; total time=   0.0s\n",
            "[CV] END algorithm=SAMME.R, learning_rate=0.3, n_estimators=0; total time=   0.0s\n",
            "[CV] END algorithm=SAMME.R, learning_rate=0.3, n_estimators=0; total time=   0.0s\n",
            "[CV] END algorithm=SAMME.R, learning_rate=0.3, n_estimators=0; total time=   0.0s\n"
          ]
        },
        {
          "output_type": "stream",
          "name": "stderr",
          "text": [
            "/usr/local/lib/python3.7/dist-packages/sklearn/model_selection/_validation.py:372: FitFailedWarning: \n",
            "40 fits failed out of a total of 100.\n",
            "The score on these train-test partitions for these parameters will be set to nan.\n",
            "If these failures are not expected, you can try to debug them by setting error_score='raise'.\n",
            "\n",
            "Below are more details about the failures:\n",
            "--------------------------------------------------------------------------------\n",
            "40 fits failed with the following error:\n",
            "Traceback (most recent call last):\n",
            "  File \"/usr/local/lib/python3.7/dist-packages/sklearn/model_selection/_validation.py\", line 680, in _fit_and_score\n",
            "    estimator.fit(X_train, y_train, **fit_params)\n",
            "  File \"/usr/local/lib/python3.7/dist-packages/sklearn/ensemble/_weight_boosting.py\", line 486, in fit\n",
            "    return super().fit(X, y, sample_weight)\n",
            "  File \"/usr/local/lib/python3.7/dist-packages/sklearn/ensemble/_weight_boosting.py\", line 132, in fit\n",
            "    self._validate_estimator()\n",
            "  File \"/usr/local/lib/python3.7/dist-packages/sklearn/ensemble/_weight_boosting.py\", line 490, in _validate_estimator\n",
            "    super()._validate_estimator(default=DecisionTreeClassifier(max_depth=1))\n",
            "  File \"/usr/local/lib/python3.7/dist-packages/sklearn/ensemble/_base.py\", line 140, in _validate_estimator\n",
            "    self.n_estimators\n",
            "ValueError: n_estimators must be greater than zero, got 0.\n",
            "\n",
            "  warnings.warn(some_fits_failed_message, FitFailedWarning)\n",
            "/usr/local/lib/python3.7/dist-packages/sklearn/model_selection/_search.py:972: UserWarning: One or more of the test scores are non-finite: [0.94464892 0.94912054        nan        nan 0.94520836 0.94939909\n",
            "        nan 0.94939909 0.94911976        nan]\n",
            "  category=UserWarning,\n"
          ]
        },
        {
          "output_type": "stream",
          "name": "stdout",
          "text": [
            "AdaBoostClassifier(learning_rate=0.3, n_estimators=250)\n",
            "{'n_estimators': 250, 'learning_rate': 0.3, 'algorithm': 'SAMME.R'}\n"
          ]
        }
      ]
    },
    {
      "cell_type": "code",
      "source": [
        "random1.best_score_"
      ],
      "metadata": {
        "colab": {
          "base_uri": "https://localhost:8080/"
        },
        "id": "g5ArNkPF_niW",
        "outputId": "8643f849-a5f9-4fcd-f7fa-c1d16e76fb5b"
      },
      "execution_count": 42,
      "outputs": [
        {
          "output_type": "execute_result",
          "data": {
            "text/plain": [
              "0.9493990892446365"
            ]
          },
          "metadata": {},
          "execution_count": 42
        }
      ]
    }
  ]
}